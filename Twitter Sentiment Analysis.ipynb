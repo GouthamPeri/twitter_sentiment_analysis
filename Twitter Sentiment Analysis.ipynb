{
 "cells": [
  {
   "cell_type": "code",
   "execution_count": 1,
   "metadata": {
    "colab": {},
    "colab_type": "code",
    "id": "UWAqZK_PYJEH"
   },
   "outputs": [],
   "source": [
    "import pandas as pd\n",
    "from textblob import TextBlob\n",
    "import string\n"
   ]
  },
  {
   "cell_type": "code",
   "execution_count": 2,
   "metadata": {},
   "outputs": [],
   "source": [
    "df = pd.read_csv(\"Data/train.csv\")"
   ]
  },
  {
   "cell_type": "code",
   "execution_count": 3,
   "metadata": {},
   "outputs": [
    {
     "name": "stdout",
     "output_type": "stream",
     "text": [
      "<class 'pandas.core.frame.DataFrame'>\n",
      "RangeIndex: 31962 entries, 0 to 31961\n",
      "Data columns (total 3 columns):\n",
      "id       31962 non-null int64\n",
      "label    31962 non-null int64\n",
      "tweet    31962 non-null object\n",
      "dtypes: int64(2), object(1)\n",
      "memory usage: 749.2+ KB\n"
     ]
    }
   ],
   "source": [
    "df.info()"
   ]
  },
  {
   "cell_type": "code",
   "execution_count": 4,
   "metadata": {},
   "outputs": [
    {
     "data": {
      "text/html": [
       "<div>\n",
       "<style scoped>\n",
       "    .dataframe tbody tr th:only-of-type {\n",
       "        vertical-align: middle;\n",
       "    }\n",
       "\n",
       "    .dataframe tbody tr th {\n",
       "        vertical-align: top;\n",
       "    }\n",
       "\n",
       "    .dataframe thead th {\n",
       "        text-align: right;\n",
       "    }\n",
       "</style>\n",
       "<table border=\"1\" class=\"dataframe\">\n",
       "  <thead>\n",
       "    <tr style=\"text-align: right;\">\n",
       "      <th></th>\n",
       "      <th>id</th>\n",
       "      <th>label</th>\n",
       "      <th>tweet</th>\n",
       "    </tr>\n",
       "  </thead>\n",
       "  <tbody>\n",
       "    <tr>\n",
       "      <th>0</th>\n",
       "      <td>1</td>\n",
       "      <td>0</td>\n",
       "      <td>@user when a father is dysfunctional and is s...</td>\n",
       "    </tr>\n",
       "    <tr>\n",
       "      <th>1</th>\n",
       "      <td>2</td>\n",
       "      <td>0</td>\n",
       "      <td>@user @user thanks for #lyft credit i can't us...</td>\n",
       "    </tr>\n",
       "    <tr>\n",
       "      <th>2</th>\n",
       "      <td>3</td>\n",
       "      <td>0</td>\n",
       "      <td>bihday your majesty</td>\n",
       "    </tr>\n",
       "    <tr>\n",
       "      <th>3</th>\n",
       "      <td>4</td>\n",
       "      <td>0</td>\n",
       "      <td>#model   i love u take with u all the time in ...</td>\n",
       "    </tr>\n",
       "    <tr>\n",
       "      <th>4</th>\n",
       "      <td>5</td>\n",
       "      <td>0</td>\n",
       "      <td>factsguide: society now    #motivation</td>\n",
       "    </tr>\n",
       "  </tbody>\n",
       "</table>\n",
       "</div>"
      ],
      "text/plain": [
       "   id  label                                              tweet\n",
       "0   1      0   @user when a father is dysfunctional and is s...\n",
       "1   2      0  @user @user thanks for #lyft credit i can't us...\n",
       "2   3      0                                bihday your majesty\n",
       "3   4      0  #model   i love u take with u all the time in ...\n",
       "4   5      0             factsguide: society now    #motivation"
      ]
     },
     "execution_count": 4,
     "metadata": {},
     "output_type": "execute_result"
    }
   ],
   "source": [
    "df.head()"
   ]
  },
  {
   "cell_type": "code",
   "execution_count": 5,
   "metadata": {},
   "outputs": [],
   "source": [
    "import re \n",
    "\n",
    "def preprocess_word(word):\n",
    "    # Remove punctuation\n",
    "    word = word.strip('\\'\"?!,.():;')\n",
    "    # Convert more than 2 letter repetitions to 2 letter\n",
    "    # funnnnny --> funny\n",
    "    word = re.sub(r'(.)\\1+', r'\\1\\1', word)\n",
    "    # Remove - & '\n",
    "    word = re.sub(r'(-|\\')', '', word)\n",
    "    return word\n",
    "\n",
    "\n",
    "def is_valid_word(word):\n",
    "    # Check if word begins with an alphabet\n",
    "    return (re.search(r'^[a-zA-Z][a-z0-9A-Z\\._]*$', word) is not None)\n",
    "\n",
    "\n",
    "def handle_emojis(tweet):\n",
    "    # Smile -- :), : ), :-), (:, ( :, (-:, :')\n",
    "    tweet = re.sub(r'(:\\s?\\)|:-\\)|\\(\\s?:|\\(-:|:\\'\\))', ' EMO_POS ', tweet)\n",
    "    # Laugh -- :D, : D, :-D, xD, x-D, XD, X-D\n",
    "    tweet = re.sub(r'(:\\s?D|:-D|x-?D|X-?D)', ' EMO_POS ', tweet)\n",
    "    # Love -- <3, :*\n",
    "    tweet = re.sub(r'(<3|:\\*)', ' EMO_POS ', tweet)\n",
    "    # Wink -- ;-), ;), ;-D, ;D, (;,  (-;\n",
    "    tweet = re.sub(r'(;-?\\)|;-?D|\\(-?;)', ' EMO_POS ', tweet)\n",
    "    # Sad -- :-(, : (, :(, ):, )-:\n",
    "    tweet = re.sub(r'(:\\s?\\(|:-\\(|\\)\\s?:|\\)-:)', ' EMO_NEG ', tweet)\n",
    "    # Cry -- :,(, :'(, :\"(\n",
    "    tweet = re.sub(r'(:,\\(|:\\'\\(|:\"\\()', ' EMO_NEG ', tweet)\n",
    "    return tweet\n",
    "\n",
    "\n",
    "def process_tweet(tweet):\n",
    "    processed_tweet = []\n",
    "    # Convert to lower case\n",
    "    tweet = tweet.lower()\n",
    "    # Replaces URLs with the word URL\n",
    "    tweet = re.sub(r'((www\\.[\\S]+)|(https?://[\\S]+))', ' URL ', tweet)\n",
    "    # Replace @handle with the word USER_MENTION\n",
    "    tweet = re.sub(r'@[\\S]+', '', tweet)\n",
    "    # Replaces #hashtag with hashtag\n",
    "    tweet = re.sub(r'#(\\S+)', r' \\1 ', tweet)\n",
    "    # Remove RT (retweet)\n",
    "    tweet = re.sub(r'\\brt\\b', '', tweet)\n",
    "    # Replace 2+ dots with space\n",
    "    tweet = re.sub(r'\\.{2,}', ' ', tweet)\n",
    "    # Strip space, \" and ' from tweet\n",
    "    tweet = tweet.strip(' \"\\'')\n",
    "    # Replace emojis with either EMO_POS or EMO_NEG\n",
    "    tweet = handle_emojis(tweet)\n",
    "    # Replace multiple spaces with a single space\n",
    "    tweet = re.sub(r'\\s+', ' ', tweet)\n",
    "    words = tweet.split()\n",
    "\n",
    "    for word in words:\n",
    "        word = preprocess_word(word)\n",
    "        if is_valid_word(word):\n",
    "            processed_tweet.append(word)\n",
    "\n",
    "    return ' '.join(processed_tweet)"
   ]
  },
  {
   "cell_type": "code",
   "execution_count": 6,
   "metadata": {},
   "outputs": [],
   "source": [
    "df['processed_tweets'] = df['tweet'].apply(process_tweet)\n",
    "df.drop('tweet',axis=1,inplace=True)"
   ]
  },
  {
   "cell_type": "code",
   "execution_count": 7,
   "metadata": {},
   "outputs": [
    {
     "data": {
      "text/plain": [
       "0    when a father is dysfunctional and is so selfi...\n",
       "1    thanks for lyft credit i cant use cause they d...\n",
       "2                                  bihday your majesty\n",
       "3           model i love u take with u all the time in\n",
       "4                    factsguide society now motivation\n",
       "Name: processed_tweets, dtype: object"
      ]
     },
     "execution_count": 7,
     "metadata": {},
     "output_type": "execute_result"
    }
   ],
   "source": [
    "df['processed_tweets'].head()"
   ]
  },
  {
   "cell_type": "code",
   "execution_count": 8,
   "metadata": {},
   "outputs": [],
   "source": [
    "df['char_count'] = df['processed_tweets'].apply(len)\n",
    "df['word_count'] = df['processed_tweets'].apply(lambda x: len(x.split()))\n",
    "df['word_density'] = df['char_count'] / (df['word_count']+1)"
   ]
  },
  {
   "cell_type": "code",
   "execution_count": 9,
   "metadata": {},
   "outputs": [
    {
     "data": {
      "text/plain": [
       "'!\"#$%&\\'()*+,-./:;<=>?@[\\\\]^_`{|}~'"
      ]
     },
     "execution_count": 9,
     "metadata": {},
     "output_type": "execute_result"
    }
   ],
   "source": [
    "string.punctuation"
   ]
  },
  {
   "cell_type": "code",
   "execution_count": 10,
   "metadata": {},
   "outputs": [
    {
     "data": {
      "text/html": [
       "<div>\n",
       "<style scoped>\n",
       "    .dataframe tbody tr th:only-of-type {\n",
       "        vertical-align: middle;\n",
       "    }\n",
       "\n",
       "    .dataframe tbody tr th {\n",
       "        vertical-align: top;\n",
       "    }\n",
       "\n",
       "    .dataframe thead th {\n",
       "        text-align: right;\n",
       "    }\n",
       "</style>\n",
       "<table border=\"1\" class=\"dataframe\">\n",
       "  <thead>\n",
       "    <tr style=\"text-align: right;\">\n",
       "      <th></th>\n",
       "      <th>id</th>\n",
       "      <th>label</th>\n",
       "      <th>processed_tweets</th>\n",
       "      <th>char_count</th>\n",
       "      <th>word_count</th>\n",
       "      <th>word_density</th>\n",
       "    </tr>\n",
       "  </thead>\n",
       "  <tbody>\n",
       "    <tr>\n",
       "      <th>0</th>\n",
       "      <td>1</td>\n",
       "      <td>0</td>\n",
       "      <td>when a father is dysfunctional and is so selfi...</td>\n",
       "      <td>91</td>\n",
       "      <td>17</td>\n",
       "      <td>5.055556</td>\n",
       "    </tr>\n",
       "    <tr>\n",
       "      <th>1</th>\n",
       "      <td>2</td>\n",
       "      <td>0</td>\n",
       "      <td>thanks for lyft credit i cant use cause they d...</td>\n",
       "      <td>101</td>\n",
       "      <td>17</td>\n",
       "      <td>5.611111</td>\n",
       "    </tr>\n",
       "    <tr>\n",
       "      <th>2</th>\n",
       "      <td>3</td>\n",
       "      <td>0</td>\n",
       "      <td>bihday your majesty</td>\n",
       "      <td>19</td>\n",
       "      <td>3</td>\n",
       "      <td>4.750000</td>\n",
       "    </tr>\n",
       "    <tr>\n",
       "      <th>3</th>\n",
       "      <td>4</td>\n",
       "      <td>0</td>\n",
       "      <td>model i love u take with u all the time in</td>\n",
       "      <td>42</td>\n",
       "      <td>11</td>\n",
       "      <td>3.500000</td>\n",
       "    </tr>\n",
       "    <tr>\n",
       "      <th>4</th>\n",
       "      <td>5</td>\n",
       "      <td>0</td>\n",
       "      <td>factsguide society now motivation</td>\n",
       "      <td>33</td>\n",
       "      <td>4</td>\n",
       "      <td>6.600000</td>\n",
       "    </tr>\n",
       "  </tbody>\n",
       "</table>\n",
       "</div>"
      ],
      "text/plain": [
       "   id  label                                   processed_tweets  char_count  \\\n",
       "0   1      0  when a father is dysfunctional and is so selfi...          91   \n",
       "1   2      0  thanks for lyft credit i cant use cause they d...         101   \n",
       "2   3      0                                bihday your majesty          19   \n",
       "3   4      0         model i love u take with u all the time in          42   \n",
       "4   5      0                  factsguide society now motivation          33   \n",
       "\n",
       "   word_count  word_density  \n",
       "0          17      5.055556  \n",
       "1          17      5.611111  \n",
       "2           3      4.750000  \n",
       "3          11      3.500000  \n",
       "4           4      6.600000  "
      ]
     },
     "execution_count": 10,
     "metadata": {},
     "output_type": "execute_result"
    }
   ],
   "source": [
    "df.head()"
   ]
  },
  {
   "cell_type": "code",
   "execution_count": 11,
   "metadata": {},
   "outputs": [
    {
     "data": {
      "text/plain": [
       "[('when', 'WRB'),\n",
       " ('a', 'DT'),\n",
       " ('father', 'NN'),\n",
       " ('is', 'VBZ'),\n",
       " ('dysfunctional', 'JJ'),\n",
       " ('and', 'CC'),\n",
       " ('is', 'VBZ'),\n",
       " ('so', 'RB'),\n",
       " ('selfish', 'JJ'),\n",
       " ('he', 'PRP'),\n",
       " ('drags', 'VBZ'),\n",
       " ('his', 'PRP$'),\n",
       " ('kids', 'NNS'),\n",
       " ('into', 'IN'),\n",
       " ('his', 'PRP$'),\n",
       " ('dysfunction', 'NN'),\n",
       " ('run', 'VB')]"
      ]
     },
     "execution_count": 11,
     "metadata": {},
     "output_type": "execute_result"
    }
   ],
   "source": [
    "TextBlob(df['processed_tweets'][0]).tags"
   ]
  },
  {
   "cell_type": "code",
   "execution_count": 12,
   "metadata": {},
   "outputs": [],
   "source": [
    "pos_family = {\n",
    "    'noun' : ['NN','NNS','NNP','NNPS'],\n",
    "    'pron' : ['PRP','PRP$','WP','WP$'],\n",
    "    'verb' : ['VB','VBD','VBG','VBN','VBP','VBZ'],\n",
    "    'adj' :  ['JJ','JJR','JJS'],\n",
    "    'adv' : ['RB','RBR','RBS','WRB']\n",
    "}\n",
    "\n",
    "# function to check and get the part of speech tag count of a words in a given sentence\n",
    "def check_pos_tag(x, flag):\n",
    "    cnt = 0\n",
    "    wiki = TextBlob(x)\n",
    "    for tup in wiki.tags:\n",
    "        ppo = list(tup)[1]\n",
    "        if ppo in pos_family[flag]:\n",
    "            cnt += 1\n",
    "\n",
    "    return cnt\n",
    "\n",
    "df['noun_count'] = df['processed_tweets'].apply(lambda x: check_pos_tag(x, 'noun'))\n",
    "df['verb_count'] = df['processed_tweets'].apply(lambda x: check_pos_tag(x, 'verb'))\n",
    "df['adj_count'] = df['processed_tweets'].apply(lambda x: check_pos_tag(x, 'adj'))\n",
    "df['adv_count'] = df['processed_tweets'].apply(lambda x: check_pos_tag(x, 'adv'))\n",
    "df['pron_count'] = df['processed_tweets'].apply(lambda x: check_pos_tag(x, 'pron'))"
   ]
  },
  {
   "cell_type": "code",
   "execution_count": 13,
   "metadata": {},
   "outputs": [
    {
     "data": {
      "text/html": [
       "<div>\n",
       "<style scoped>\n",
       "    .dataframe tbody tr th:only-of-type {\n",
       "        vertical-align: middle;\n",
       "    }\n",
       "\n",
       "    .dataframe tbody tr th {\n",
       "        vertical-align: top;\n",
       "    }\n",
       "\n",
       "    .dataframe thead th {\n",
       "        text-align: right;\n",
       "    }\n",
       "</style>\n",
       "<table border=\"1\" class=\"dataframe\">\n",
       "  <thead>\n",
       "    <tr style=\"text-align: right;\">\n",
       "      <th></th>\n",
       "      <th>id</th>\n",
       "      <th>label</th>\n",
       "      <th>processed_tweets</th>\n",
       "      <th>char_count</th>\n",
       "      <th>word_count</th>\n",
       "      <th>word_density</th>\n",
       "      <th>noun_count</th>\n",
       "      <th>verb_count</th>\n",
       "      <th>adj_count</th>\n",
       "      <th>adv_count</th>\n",
       "      <th>pron_count</th>\n",
       "    </tr>\n",
       "  </thead>\n",
       "  <tbody>\n",
       "    <tr>\n",
       "      <th>0</th>\n",
       "      <td>1</td>\n",
       "      <td>0</td>\n",
       "      <td>when a father is dysfunctional and is so selfi...</td>\n",
       "      <td>91</td>\n",
       "      <td>17</td>\n",
       "      <td>5.055556</td>\n",
       "      <td>3</td>\n",
       "      <td>4</td>\n",
       "      <td>2</td>\n",
       "      <td>2</td>\n",
       "      <td>3</td>\n",
       "    </tr>\n",
       "    <tr>\n",
       "      <th>1</th>\n",
       "      <td>2</td>\n",
       "      <td>0</td>\n",
       "      <td>thanks for lyft credit i cant use cause they d...</td>\n",
       "      <td>101</td>\n",
       "      <td>17</td>\n",
       "      <td>5.611111</td>\n",
       "      <td>7</td>\n",
       "      <td>5</td>\n",
       "      <td>2</td>\n",
       "      <td>0</td>\n",
       "      <td>1</td>\n",
       "    </tr>\n",
       "    <tr>\n",
       "      <th>2</th>\n",
       "      <td>3</td>\n",
       "      <td>0</td>\n",
       "      <td>bihday your majesty</td>\n",
       "      <td>19</td>\n",
       "      <td>3</td>\n",
       "      <td>4.750000</td>\n",
       "      <td>1</td>\n",
       "      <td>0</td>\n",
       "      <td>0</td>\n",
       "      <td>1</td>\n",
       "      <td>1</td>\n",
       "    </tr>\n",
       "    <tr>\n",
       "      <th>3</th>\n",
       "      <td>4</td>\n",
       "      <td>0</td>\n",
       "      <td>model i love u take with u all the time in</td>\n",
       "      <td>42</td>\n",
       "      <td>11</td>\n",
       "      <td>3.500000</td>\n",
       "      <td>4</td>\n",
       "      <td>1</td>\n",
       "      <td>2</td>\n",
       "      <td>0</td>\n",
       "      <td>0</td>\n",
       "    </tr>\n",
       "    <tr>\n",
       "      <th>4</th>\n",
       "      <td>5</td>\n",
       "      <td>0</td>\n",
       "      <td>factsguide society now motivation</td>\n",
       "      <td>33</td>\n",
       "      <td>4</td>\n",
       "      <td>6.600000</td>\n",
       "      <td>2</td>\n",
       "      <td>0</td>\n",
       "      <td>1</td>\n",
       "      <td>1</td>\n",
       "      <td>0</td>\n",
       "    </tr>\n",
       "  </tbody>\n",
       "</table>\n",
       "</div>"
      ],
      "text/plain": [
       "   id  label                                   processed_tweets  char_count  \\\n",
       "0   1      0  when a father is dysfunctional and is so selfi...          91   \n",
       "1   2      0  thanks for lyft credit i cant use cause they d...         101   \n",
       "2   3      0                                bihday your majesty          19   \n",
       "3   4      0         model i love u take with u all the time in          42   \n",
       "4   5      0                  factsguide society now motivation          33   \n",
       "\n",
       "   word_count  word_density  noun_count  verb_count  adj_count  adv_count  \\\n",
       "0          17      5.055556           3           4          2          2   \n",
       "1          17      5.611111           7           5          2          0   \n",
       "2           3      4.750000           1           0          0          1   \n",
       "3          11      3.500000           4           1          2          0   \n",
       "4           4      6.600000           2           0          1          1   \n",
       "\n",
       "   pron_count  \n",
       "0           3  \n",
       "1           1  \n",
       "2           1  \n",
       "3           0  \n",
       "4           0  "
      ]
     },
     "execution_count": 13,
     "metadata": {},
     "output_type": "execute_result"
    }
   ],
   "source": [
    "df.head()"
   ]
  },
  {
   "cell_type": "code",
   "execution_count": 14,
   "metadata": {},
   "outputs": [],
   "source": [
    "from sklearn.preprocessing import MinMaxScaler\n",
    "scaler = MinMaxScaler()\n",
    "df[['char_count','word_count','word_density', 'noun_count','verb_count','adj_count','adv_count','pron_count']] = \\\n",
    " scaler.fit_transform(df[['char_count','word_count','word_density', 'noun_count','verb_count','adj_count','adv_count','pron_count']])"
   ]
  },
  {
   "cell_type": "code",
   "execution_count": 15,
   "metadata": {},
   "outputs": [
    {
     "data": {
      "text/html": [
       "<div>\n",
       "<style scoped>\n",
       "    .dataframe tbody tr th:only-of-type {\n",
       "        vertical-align: middle;\n",
       "    }\n",
       "\n",
       "    .dataframe tbody tr th {\n",
       "        vertical-align: top;\n",
       "    }\n",
       "\n",
       "    .dataframe thead th {\n",
       "        text-align: right;\n",
       "    }\n",
       "</style>\n",
       "<table border=\"1\" class=\"dataframe\">\n",
       "  <thead>\n",
       "    <tr style=\"text-align: right;\">\n",
       "      <th></th>\n",
       "      <th>id</th>\n",
       "      <th>label</th>\n",
       "      <th>processed_tweets</th>\n",
       "      <th>char_count</th>\n",
       "      <th>word_count</th>\n",
       "      <th>word_density</th>\n",
       "      <th>noun_count</th>\n",
       "      <th>verb_count</th>\n",
       "      <th>adj_count</th>\n",
       "      <th>adv_count</th>\n",
       "      <th>pron_count</th>\n",
       "    </tr>\n",
       "  </thead>\n",
       "  <tbody>\n",
       "    <tr>\n",
       "      <th>0</th>\n",
       "      <td>1</td>\n",
       "      <td>0</td>\n",
       "      <td>when a father is dysfunctional and is so selfi...</td>\n",
       "      <td>0.659420</td>\n",
       "      <td>0.53125</td>\n",
       "      <td>0.324074</td>\n",
       "      <td>0.166667</td>\n",
       "      <td>0.363636</td>\n",
       "      <td>0.166667</td>\n",
       "      <td>0.222222</td>\n",
       "      <td>0.375</td>\n",
       "    </tr>\n",
       "    <tr>\n",
       "      <th>1</th>\n",
       "      <td>2</td>\n",
       "      <td>0</td>\n",
       "      <td>thanks for lyft credit i cant use cause they d...</td>\n",
       "      <td>0.731884</td>\n",
       "      <td>0.53125</td>\n",
       "      <td>0.359687</td>\n",
       "      <td>0.388889</td>\n",
       "      <td>0.454545</td>\n",
       "      <td>0.166667</td>\n",
       "      <td>0.000000</td>\n",
       "      <td>0.125</td>\n",
       "    </tr>\n",
       "    <tr>\n",
       "      <th>2</th>\n",
       "      <td>3</td>\n",
       "      <td>0</td>\n",
       "      <td>bihday your majesty</td>\n",
       "      <td>0.137681</td>\n",
       "      <td>0.09375</td>\n",
       "      <td>0.304487</td>\n",
       "      <td>0.055556</td>\n",
       "      <td>0.000000</td>\n",
       "      <td>0.000000</td>\n",
       "      <td>0.111111</td>\n",
       "      <td>0.125</td>\n",
       "    </tr>\n",
       "    <tr>\n",
       "      <th>3</th>\n",
       "      <td>4</td>\n",
       "      <td>0</td>\n",
       "      <td>model i love u take with u all the time in</td>\n",
       "      <td>0.304348</td>\n",
       "      <td>0.34375</td>\n",
       "      <td>0.224359</td>\n",
       "      <td>0.222222</td>\n",
       "      <td>0.090909</td>\n",
       "      <td>0.166667</td>\n",
       "      <td>0.000000</td>\n",
       "      <td>0.000</td>\n",
       "    </tr>\n",
       "    <tr>\n",
       "      <th>4</th>\n",
       "      <td>5</td>\n",
       "      <td>0</td>\n",
       "      <td>factsguide society now motivation</td>\n",
       "      <td>0.239130</td>\n",
       "      <td>0.12500</td>\n",
       "      <td>0.423077</td>\n",
       "      <td>0.111111</td>\n",
       "      <td>0.000000</td>\n",
       "      <td>0.083333</td>\n",
       "      <td>0.111111</td>\n",
       "      <td>0.000</td>\n",
       "    </tr>\n",
       "  </tbody>\n",
       "</table>\n",
       "</div>"
      ],
      "text/plain": [
       "   id  label                                   processed_tweets  char_count  \\\n",
       "0   1      0  when a father is dysfunctional and is so selfi...    0.659420   \n",
       "1   2      0  thanks for lyft credit i cant use cause they d...    0.731884   \n",
       "2   3      0                                bihday your majesty    0.137681   \n",
       "3   4      0         model i love u take with u all the time in    0.304348   \n",
       "4   5      0                  factsguide society now motivation    0.239130   \n",
       "\n",
       "   word_count  word_density  noun_count  verb_count  adj_count  adv_count  \\\n",
       "0     0.53125      0.324074    0.166667    0.363636   0.166667   0.222222   \n",
       "1     0.53125      0.359687    0.388889    0.454545   0.166667   0.000000   \n",
       "2     0.09375      0.304487    0.055556    0.000000   0.000000   0.111111   \n",
       "3     0.34375      0.224359    0.222222    0.090909   0.166667   0.000000   \n",
       "4     0.12500      0.423077    0.111111    0.000000   0.083333   0.111111   \n",
       "\n",
       "   pron_count  \n",
       "0       0.375  \n",
       "1       0.125  \n",
       "2       0.125  \n",
       "3       0.000  \n",
       "4       0.000  "
      ]
     },
     "execution_count": 15,
     "metadata": {},
     "output_type": "execute_result"
    }
   ],
   "source": [
    "df.head()"
   ]
  },
  {
   "cell_type": "code",
   "execution_count": 16,
   "metadata": {},
   "outputs": [],
   "source": [
    "from sklearn.model_selection import train_test_split\n",
    "from sklearn.pipeline import Pipeline\n",
    "y = df['label']\n",
    "df.drop('id',axis=1,inplace=True)\n",
    "df.drop('label',axis=1,inplace=True)\n",
    "X = df\n",
    "#X_train, X_test, y_train, y_test = train_test_split(X,y, test_size = 0.2, random_state = 42)"
   ]
  },
  {
   "cell_type": "code",
   "execution_count": 17,
   "metadata": {},
   "outputs": [
    {
     "data": {
      "text/html": [
       "<div>\n",
       "<style scoped>\n",
       "    .dataframe tbody tr th:only-of-type {\n",
       "        vertical-align: middle;\n",
       "    }\n",
       "\n",
       "    .dataframe tbody tr th {\n",
       "        vertical-align: top;\n",
       "    }\n",
       "\n",
       "    .dataframe thead th {\n",
       "        text-align: right;\n",
       "    }\n",
       "</style>\n",
       "<table border=\"1\" class=\"dataframe\">\n",
       "  <thead>\n",
       "    <tr style=\"text-align: right;\">\n",
       "      <th></th>\n",
       "      <th>processed_tweets</th>\n",
       "      <th>char_count</th>\n",
       "      <th>word_count</th>\n",
       "      <th>word_density</th>\n",
       "      <th>noun_count</th>\n",
       "      <th>verb_count</th>\n",
       "      <th>adj_count</th>\n",
       "      <th>adv_count</th>\n",
       "      <th>pron_count</th>\n",
       "    </tr>\n",
       "  </thead>\n",
       "  <tbody>\n",
       "    <tr>\n",
       "      <th>0</th>\n",
       "      <td>when a father is dysfunctional and is so selfi...</td>\n",
       "      <td>0.659420</td>\n",
       "      <td>0.53125</td>\n",
       "      <td>0.324074</td>\n",
       "      <td>0.166667</td>\n",
       "      <td>0.363636</td>\n",
       "      <td>0.166667</td>\n",
       "      <td>0.222222</td>\n",
       "      <td>0.375</td>\n",
       "    </tr>\n",
       "    <tr>\n",
       "      <th>1</th>\n",
       "      <td>thanks for lyft credit i cant use cause they d...</td>\n",
       "      <td>0.731884</td>\n",
       "      <td>0.53125</td>\n",
       "      <td>0.359687</td>\n",
       "      <td>0.388889</td>\n",
       "      <td>0.454545</td>\n",
       "      <td>0.166667</td>\n",
       "      <td>0.000000</td>\n",
       "      <td>0.125</td>\n",
       "    </tr>\n",
       "    <tr>\n",
       "      <th>2</th>\n",
       "      <td>bihday your majesty</td>\n",
       "      <td>0.137681</td>\n",
       "      <td>0.09375</td>\n",
       "      <td>0.304487</td>\n",
       "      <td>0.055556</td>\n",
       "      <td>0.000000</td>\n",
       "      <td>0.000000</td>\n",
       "      <td>0.111111</td>\n",
       "      <td>0.125</td>\n",
       "    </tr>\n",
       "    <tr>\n",
       "      <th>3</th>\n",
       "      <td>model i love u take with u all the time in</td>\n",
       "      <td>0.304348</td>\n",
       "      <td>0.34375</td>\n",
       "      <td>0.224359</td>\n",
       "      <td>0.222222</td>\n",
       "      <td>0.090909</td>\n",
       "      <td>0.166667</td>\n",
       "      <td>0.000000</td>\n",
       "      <td>0.000</td>\n",
       "    </tr>\n",
       "    <tr>\n",
       "      <th>4</th>\n",
       "      <td>factsguide society now motivation</td>\n",
       "      <td>0.239130</td>\n",
       "      <td>0.12500</td>\n",
       "      <td>0.423077</td>\n",
       "      <td>0.111111</td>\n",
       "      <td>0.000000</td>\n",
       "      <td>0.083333</td>\n",
       "      <td>0.111111</td>\n",
       "      <td>0.000</td>\n",
       "    </tr>\n",
       "  </tbody>\n",
       "</table>\n",
       "</div>"
      ],
      "text/plain": [
       "                                    processed_tweets  char_count  word_count  \\\n",
       "0  when a father is dysfunctional and is so selfi...    0.659420     0.53125   \n",
       "1  thanks for lyft credit i cant use cause they d...    0.731884     0.53125   \n",
       "2                                bihday your majesty    0.137681     0.09375   \n",
       "3         model i love u take with u all the time in    0.304348     0.34375   \n",
       "4                  factsguide society now motivation    0.239130     0.12500   \n",
       "\n",
       "   word_density  noun_count  verb_count  adj_count  adv_count  pron_count  \n",
       "0      0.324074    0.166667    0.363636   0.166667   0.222222       0.375  \n",
       "1      0.359687    0.388889    0.454545   0.166667   0.000000       0.125  \n",
       "2      0.304487    0.055556    0.000000   0.000000   0.111111       0.125  \n",
       "3      0.224359    0.222222    0.090909   0.166667   0.000000       0.000  \n",
       "4      0.423077    0.111111    0.000000   0.083333   0.111111       0.000  "
      ]
     },
     "execution_count": 17,
     "metadata": {},
     "output_type": "execute_result"
    }
   ],
   "source": [
    "X.head()"
   ]
  },
  {
   "cell_type": "code",
   "execution_count": 42,
   "metadata": {},
   "outputs": [
    {
     "data": {
      "text/plain": [
       "scipy.sparse.csr.csr_matrix"
      ]
     },
     "execution_count": 42,
     "metadata": {},
     "output_type": "execute_result"
    }
   ],
   "source": [
    "\n",
    "from sklearn.feature_extraction.text import CountVectorizer, TfidfTransformer, TfidfVectorizer\n",
    "\n",
    "from sklearn.ensemble import RandomForestClassifier, ExtraTreesClassifier, GradientBoostingClassifier\n",
    "from sklearn.linear_model import LogisticRegression\n",
    "from sklearn.svm import SVC, LinearSVC\n",
    "from sklearn.feature_selection import SelectKBest, chi2, f_classif\n",
    "\n",
    "count_vect = CountVectorizer(df['processed_tweets'], stop_words='english', ngram_range=(1,3), max_df=0.9, strip_accents=\"unicode\")\n",
    "tfidf = TfidfVectorizer(use_idf=True)\n",
    "tfidf = tfidf.fit(df['processed_tweets'])\n",
    "tfidf = tfidf.transform(X)\n",
    "svc = LinearSVC()\n",
    "type(tfidf)\n",
    "svc.fit(X, tfidf)\n",
    "\n",
    "\n",
    "# text_clf = Pipeline([('vect', CountVectorizer(stop_words='english')),\n",
    "#                       ('tfidf', TfidfTransformer()),\n",
    "#                      ('chi2', SelectKBest(chi2)),\n",
    "#                      ('clf', LinearSVC(verbose=True, )),])"
   ]
  },
  {
   "cell_type": "code",
   "execution_count": 19,
   "metadata": {},
   "outputs": [],
   "source": [
    "params = {\"vect__ngram_range\": [(1, 3)],\n",
    "          \"vect__max_df\": [0.9],\n",
    "          \"vect__strip_accents\": [\"unicode\"],\n",
    "        \"tfidf__use_idf\": [True],\n",
    "          \"chi2__k\" : [25000],\n",
    "          \"clf__C\": [2.4],\n",
    "          \"clf__max_iter\" : [6],\n",
    "          \"clf__loss\" : [\"hinge\"],\n",
    "          \"clf__tol\":[0.00001]\n",
    "         }\n",
    "\n",
    "# #Random Forest\n",
    "\n",
    "# params = {\"vect__ngram_range\": [(1, 2)],\n",
    "#           \"vect__max_df\": [0.1],\n",
    "#           \"vect__strip_accents\": [\"ascii\"],\n",
    "#         \"tfidf__use_idf\": [True],\n",
    "#           \"chi2__k\" :[27000],\n",
    "#          }"
   ]
  },
  {
   "cell_type": "code",
   "execution_count": 20,
   "metadata": {},
   "outputs": [],
   "source": [
    "from sklearn.model_selection import GridSearchCV\n",
    "text_clf = GridSearchCV(text_clf, params, verbose=2, n_jobs=-1)"
   ]
  },
  {
   "cell_type": "code",
   "execution_count": 30,
   "metadata": {},
   "outputs": [
    {
     "ename": "AttributeError",
     "evalue": "'DataFrame' object has no attribute 'to_frame'",
     "output_type": "error",
     "traceback": [
      "\u001b[1;31m---------------------------------------------------------------------------\u001b[0m",
      "\u001b[1;31mAttributeError\u001b[0m                            Traceback (most recent call last)",
      "\u001b[1;32m<ipython-input-30-8f365b50af96>\u001b[0m in \u001b[0;36m<module>\u001b[1;34m()\u001b[0m\n\u001b[1;32m----> 1\u001b[1;33m \u001b[0my\u001b[0m \u001b[1;33m=\u001b[0m \u001b[0my\u001b[0m\u001b[1;33m.\u001b[0m\u001b[0mto_frame\u001b[0m\u001b[1;33m(\u001b[0m\u001b[1;33m)\u001b[0m\u001b[1;33m\u001b[0m\u001b[0m\n\u001b[0m\u001b[0;32m      2\u001b[0m \u001b[0mx\u001b[0m\u001b[1;33m.\u001b[0m\u001b[0mshape\u001b[0m\u001b[1;33m\u001b[0m\u001b[0m\n",
      "\u001b[1;32mC:\\ProgramData\\Anaconda3\\lib\\site-packages\\pandas\\core\\generic.py\u001b[0m in \u001b[0;36m__getattr__\u001b[1;34m(self, name)\u001b[0m\n\u001b[0;32m   4370\u001b[0m             \u001b[1;32mif\u001b[0m \u001b[0mself\u001b[0m\u001b[1;33m.\u001b[0m\u001b[0m_info_axis\u001b[0m\u001b[1;33m.\u001b[0m\u001b[0m_can_hold_identifiers_and_holds_name\u001b[0m\u001b[1;33m(\u001b[0m\u001b[0mname\u001b[0m\u001b[1;33m)\u001b[0m\u001b[1;33m:\u001b[0m\u001b[1;33m\u001b[0m\u001b[0m\n\u001b[0;32m   4371\u001b[0m                 \u001b[1;32mreturn\u001b[0m \u001b[0mself\u001b[0m\u001b[1;33m[\u001b[0m\u001b[0mname\u001b[0m\u001b[1;33m]\u001b[0m\u001b[1;33m\u001b[0m\u001b[0m\n\u001b[1;32m-> 4372\u001b[1;33m             \u001b[1;32mreturn\u001b[0m \u001b[0mobject\u001b[0m\u001b[1;33m.\u001b[0m\u001b[0m__getattribute__\u001b[0m\u001b[1;33m(\u001b[0m\u001b[0mself\u001b[0m\u001b[1;33m,\u001b[0m \u001b[0mname\u001b[0m\u001b[1;33m)\u001b[0m\u001b[1;33m\u001b[0m\u001b[0m\n\u001b[0m\u001b[0;32m   4373\u001b[0m \u001b[1;33m\u001b[0m\u001b[0m\n\u001b[0;32m   4374\u001b[0m     \u001b[1;32mdef\u001b[0m \u001b[0m__setattr__\u001b[0m\u001b[1;33m(\u001b[0m\u001b[0mself\u001b[0m\u001b[1;33m,\u001b[0m \u001b[0mname\u001b[0m\u001b[1;33m,\u001b[0m \u001b[0mvalue\u001b[0m\u001b[1;33m)\u001b[0m\u001b[1;33m:\u001b[0m\u001b[1;33m\u001b[0m\u001b[0m\n",
      "\u001b[1;31mAttributeError\u001b[0m: 'DataFrame' object has no attribute 'to_frame'"
     ]
    }
   ],
   "source": [
    "y = y.to_frame()\n"
   ]
  },
  {
   "cell_type": "code",
   "execution_count": 36,
   "metadata": {},
   "outputs": [
    {
     "name": "stdout",
     "output_type": "stream",
     "text": [
      "<class 'pandas.core.frame.DataFrame'>\n",
      "RangeIndex: 31962 entries, 0 to 31961\n",
      "Data columns (total 9 columns):\n",
      "processed_tweets    31962 non-null object\n",
      "char_count          31962 non-null float64\n",
      "word_count          31962 non-null float64\n",
      "word_density        31962 non-null float64\n",
      "noun_count          31962 non-null float64\n",
      "verb_count          31962 non-null float64\n",
      "adj_count           31962 non-null float64\n",
      "adv_count           31962 non-null float64\n",
      "pron_count          31962 non-null float64\n",
      "dtypes: float64(8), object(1)\n",
      "memory usage: 2.2+ MB\n"
     ]
    }
   ],
   "source": [
    "X.info()"
   ]
  },
  {
   "cell_type": "code",
   "execution_count": 35,
   "metadata": {},
   "outputs": [
    {
     "name": "stdout",
     "output_type": "stream",
     "text": [
      "<class 'pandas.core.frame.DataFrame'>\n",
      "RangeIndex: 31962 entries, 0 to 31961\n",
      "Data columns (total 1 columns):\n",
      "label    31962 non-null int64\n",
      "dtypes: int64(1)\n",
      "memory usage: 249.8 KB\n"
     ]
    }
   ],
   "source": [
    "y.info()"
   ]
  },
  {
   "cell_type": "code",
   "execution_count": 28,
   "metadata": {},
   "outputs": [
    {
     "name": "stdout",
     "output_type": "stream",
     "text": [
      "Fitting 3 folds for each of 1 candidates, totalling 3 fits\n"
     ]
    },
    {
     "ename": "JoblibValueError",
     "evalue": "JoblibValueError\n___________________________________________________________________________\nMultiprocessing exception:\n...........................................................................\nC:\\ProgramData\\Anaconda3\\lib\\runpy.py in _run_module_as_main(mod_name='ipykernel_launcher', alter_argv=1)\n    188         sys.exit(msg)\n    189     main_globals = sys.modules[\"__main__\"].__dict__\n    190     if alter_argv:\n    191         sys.argv[0] = mod_spec.origin\n    192     return _run_code(code, main_globals, None,\n--> 193                      \"__main__\", mod_spec)\n        mod_spec = ModuleSpec(name='ipykernel_launcher', loader=<_f...nda3\\\\lib\\\\site-packages\\\\ipykernel_launcher.py')\n    194 \n    195 def run_module(mod_name, init_globals=None,\n    196                run_name=None, alter_sys=False):\n    197     \"\"\"Execute a module's code without importing it\n\n...........................................................................\nC:\\ProgramData\\Anaconda3\\lib\\runpy.py in _run_code(code=<code object <module> at 0x000001C1AA674F60, fil...lib\\site-packages\\ipykernel_launcher.py\", line 5>, run_globals={'__annotations__': {}, '__builtins__': <module 'builtins' (built-in)>, '__cached__': r'C:\\ProgramData\\Anaconda3\\lib\\site-packages\\__pycache__\\ipykernel_launcher.cpython-36.pyc', '__doc__': 'Entry point for launching an IPython kernel.\\n\\nTh...orts until\\nafter removing the cwd from sys.path.\\n', '__file__': r'C:\\ProgramData\\Anaconda3\\lib\\site-packages\\ipykernel_launcher.py', '__loader__': <_frozen_importlib_external.SourceFileLoader object>, '__name__': '__main__', '__package__': '', '__spec__': ModuleSpec(name='ipykernel_launcher', loader=<_f...nda3\\\\lib\\\\site-packages\\\\ipykernel_launcher.py'), 'app': <module 'ipykernel.kernelapp' from 'C:\\\\ProgramD...a3\\\\lib\\\\site-packages\\\\ipykernel\\\\kernelapp.py'>, ...}, init_globals=None, mod_name='__main__', mod_spec=ModuleSpec(name='ipykernel_launcher', loader=<_f...nda3\\\\lib\\\\site-packages\\\\ipykernel_launcher.py'), pkg_name='', script_name=None)\n     80                        __cached__ = cached,\n     81                        __doc__ = None,\n     82                        __loader__ = loader,\n     83                        __package__ = pkg_name,\n     84                        __spec__ = mod_spec)\n---> 85     exec(code, run_globals)\n        code = <code object <module> at 0x000001C1AA674F60, fil...lib\\site-packages\\ipykernel_launcher.py\", line 5>\n        run_globals = {'__annotations__': {}, '__builtins__': <module 'builtins' (built-in)>, '__cached__': r'C:\\ProgramData\\Anaconda3\\lib\\site-packages\\__pycache__\\ipykernel_launcher.cpython-36.pyc', '__doc__': 'Entry point for launching an IPython kernel.\\n\\nTh...orts until\\nafter removing the cwd from sys.path.\\n', '__file__': r'C:\\ProgramData\\Anaconda3\\lib\\site-packages\\ipykernel_launcher.py', '__loader__': <_frozen_importlib_external.SourceFileLoader object>, '__name__': '__main__', '__package__': '', '__spec__': ModuleSpec(name='ipykernel_launcher', loader=<_f...nda3\\\\lib\\\\site-packages\\\\ipykernel_launcher.py'), 'app': <module 'ipykernel.kernelapp' from 'C:\\\\ProgramD...a3\\\\lib\\\\site-packages\\\\ipykernel\\\\kernelapp.py'>, ...}\n     86     return run_globals\n     87 \n     88 def _run_module_code(code, init_globals=None,\n     89                     mod_name=None, mod_spec=None,\n\n...........................................................................\nC:\\ProgramData\\Anaconda3\\lib\\site-packages\\ipykernel_launcher.py in <module>()\n     11     # This is added back by InteractiveShellApp.init_path()\n     12     if sys.path[0] == '':\n     13         del sys.path[0]\n     14 \n     15     from ipykernel import kernelapp as app\n---> 16     app.launch_new_instance()\n\n...........................................................................\nC:\\ProgramData\\Anaconda3\\lib\\site-packages\\traitlets\\config\\application.py in launch_instance(cls=<class 'ipykernel.kernelapp.IPKernelApp'>, argv=None, **kwargs={})\n    653 \n    654         If a global instance already exists, this reinitializes and starts it\n    655         \"\"\"\n    656         app = cls.instance(**kwargs)\n    657         app.initialize(argv)\n--> 658         app.start()\n        app.start = <bound method IPKernelApp.start of <ipykernel.kernelapp.IPKernelApp object>>\n    659 \n    660 #-----------------------------------------------------------------------------\n    661 # utility functions, for convenience\n    662 #-----------------------------------------------------------------------------\n\n...........................................................................\nC:\\ProgramData\\Anaconda3\\lib\\site-packages\\ipykernel\\kernelapp.py in start(self=<ipykernel.kernelapp.IPKernelApp object>)\n    481         if self.poller is not None:\n    482             self.poller.start()\n    483         self.kernel.start()\n    484         self.io_loop = ioloop.IOLoop.current()\n    485         try:\n--> 486             self.io_loop.start()\n        self.io_loop.start = <bound method BaseAsyncIOLoop.start of <tornado.platform.asyncio.AsyncIOMainLoop object>>\n    487         except KeyboardInterrupt:\n    488             pass\n    489 \n    490 launch_new_instance = IPKernelApp.launch_instance\n\n...........................................................................\nC:\\ProgramData\\Anaconda3\\lib\\site-packages\\tornado\\platform\\asyncio.py in start(self=<tornado.platform.asyncio.AsyncIOMainLoop object>)\n    122         except (RuntimeError, AssertionError):\n    123             old_loop = None\n    124         try:\n    125             self._setup_logging()\n    126             asyncio.set_event_loop(self.asyncio_loop)\n--> 127             self.asyncio_loop.run_forever()\n        self.asyncio_loop.run_forever = <bound method BaseEventLoop.run_forever of <_Win...EventLoop running=True closed=False debug=False>>\n    128         finally:\n    129             asyncio.set_event_loop(old_loop)\n    130 \n    131     def stop(self):\n\n...........................................................................\nC:\\ProgramData\\Anaconda3\\lib\\asyncio\\base_events.py in run_forever(self=<_WindowsSelectorEventLoop running=True closed=False debug=False>)\n    417             sys.set_asyncgen_hooks(firstiter=self._asyncgen_firstiter_hook,\n    418                                    finalizer=self._asyncgen_finalizer_hook)\n    419         try:\n    420             events._set_running_loop(self)\n    421             while True:\n--> 422                 self._run_once()\n        self._run_once = <bound method BaseEventLoop._run_once of <_Windo...EventLoop running=True closed=False debug=False>>\n    423                 if self._stopping:\n    424                     break\n    425         finally:\n    426             self._stopping = False\n\n...........................................................................\nC:\\ProgramData\\Anaconda3\\lib\\asyncio\\base_events.py in _run_once(self=<_WindowsSelectorEventLoop running=True closed=False debug=False>)\n   1427                         logger.warning('Executing %s took %.3f seconds',\n   1428                                        _format_handle(handle), dt)\n   1429                 finally:\n   1430                     self._current_handle = None\n   1431             else:\n-> 1432                 handle._run()\n        handle._run = <bound method Handle._run of <Handle BaseAsyncIOLoop._handle_events(488, 1)>>\n   1433         handle = None  # Needed to break cycles when an exception occurs.\n   1434 \n   1435     def _set_coroutine_wrapper(self, enabled):\n   1436         try:\n\n...........................................................................\nC:\\ProgramData\\Anaconda3\\lib\\asyncio\\events.py in _run(self=<Handle BaseAsyncIOLoop._handle_events(488, 1)>)\n    140             self._callback = None\n    141             self._args = None\n    142 \n    143     def _run(self):\n    144         try:\n--> 145             self._callback(*self._args)\n        self._callback = <bound method BaseAsyncIOLoop._handle_events of <tornado.platform.asyncio.AsyncIOMainLoop object>>\n        self._args = (488, 1)\n    146         except Exception as exc:\n    147             cb = _format_callback_source(self._callback, self._args)\n    148             msg = 'Exception in callback {}'.format(cb)\n    149             context = {\n\n...........................................................................\nC:\\ProgramData\\Anaconda3\\lib\\site-packages\\tornado\\platform\\asyncio.py in _handle_events(self=<tornado.platform.asyncio.AsyncIOMainLoop object>, fd=488, events=1)\n    112             self.writers.remove(fd)\n    113         del self.handlers[fd]\n    114 \n    115     def _handle_events(self, fd, events):\n    116         fileobj, handler_func = self.handlers[fd]\n--> 117         handler_func(fileobj, events)\n        handler_func = <function wrap.<locals>.null_wrapper>\n        fileobj = <zmq.sugar.socket.Socket object>\n        events = 1\n    118 \n    119     def start(self):\n    120         try:\n    121             old_loop = asyncio.get_event_loop()\n\n...........................................................................\nC:\\ProgramData\\Anaconda3\\lib\\site-packages\\tornado\\stack_context.py in null_wrapper(*args=(<zmq.sugar.socket.Socket object>, 1), **kwargs={})\n    271         # Fast path when there are no active contexts.\n    272         def null_wrapper(*args, **kwargs):\n    273             try:\n    274                 current_state = _state.contexts\n    275                 _state.contexts = cap_contexts[0]\n--> 276                 return fn(*args, **kwargs)\n        args = (<zmq.sugar.socket.Socket object>, 1)\n        kwargs = {}\n    277             finally:\n    278                 _state.contexts = current_state\n    279         null_wrapper._wrapped = True\n    280         return null_wrapper\n\n...........................................................................\nC:\\ProgramData\\Anaconda3\\lib\\site-packages\\zmq\\eventloop\\zmqstream.py in _handle_events(self=<zmq.eventloop.zmqstream.ZMQStream object>, fd=<zmq.sugar.socket.Socket object>, events=1)\n    445             return\n    446         zmq_events = self.socket.EVENTS\n    447         try:\n    448             # dispatch events:\n    449             if zmq_events & zmq.POLLIN and self.receiving():\n--> 450                 self._handle_recv()\n        self._handle_recv = <bound method ZMQStream._handle_recv of <zmq.eventloop.zmqstream.ZMQStream object>>\n    451                 if not self.socket:\n    452                     return\n    453             if zmq_events & zmq.POLLOUT and self.sending():\n    454                 self._handle_send()\n\n...........................................................................\nC:\\ProgramData\\Anaconda3\\lib\\site-packages\\zmq\\eventloop\\zmqstream.py in _handle_recv(self=<zmq.eventloop.zmqstream.ZMQStream object>)\n    475             else:\n    476                 raise\n    477         else:\n    478             if self._recv_callback:\n    479                 callback = self._recv_callback\n--> 480                 self._run_callback(callback, msg)\n        self._run_callback = <bound method ZMQStream._run_callback of <zmq.eventloop.zmqstream.ZMQStream object>>\n        callback = <function wrap.<locals>.null_wrapper>\n        msg = [<zmq.sugar.frame.Frame object>, <zmq.sugar.frame.Frame object>, <zmq.sugar.frame.Frame object>, <zmq.sugar.frame.Frame object>, <zmq.sugar.frame.Frame object>, <zmq.sugar.frame.Frame object>, <zmq.sugar.frame.Frame object>]\n    481         \n    482 \n    483     def _handle_send(self):\n    484         \"\"\"Handle a send event.\"\"\"\n\n...........................................................................\nC:\\ProgramData\\Anaconda3\\lib\\site-packages\\zmq\\eventloop\\zmqstream.py in _run_callback(self=<zmq.eventloop.zmqstream.ZMQStream object>, callback=<function wrap.<locals>.null_wrapper>, *args=([<zmq.sugar.frame.Frame object>, <zmq.sugar.frame.Frame object>, <zmq.sugar.frame.Frame object>, <zmq.sugar.frame.Frame object>, <zmq.sugar.frame.Frame object>, <zmq.sugar.frame.Frame object>, <zmq.sugar.frame.Frame object>],), **kwargs={})\n    427         close our socket.\"\"\"\n    428         try:\n    429             # Use a NullContext to ensure that all StackContexts are run\n    430             # inside our blanket exception handler rather than outside.\n    431             with stack_context.NullContext():\n--> 432                 callback(*args, **kwargs)\n        callback = <function wrap.<locals>.null_wrapper>\n        args = ([<zmq.sugar.frame.Frame object>, <zmq.sugar.frame.Frame object>, <zmq.sugar.frame.Frame object>, <zmq.sugar.frame.Frame object>, <zmq.sugar.frame.Frame object>, <zmq.sugar.frame.Frame object>, <zmq.sugar.frame.Frame object>],)\n        kwargs = {}\n    433         except:\n    434             gen_log.error(\"Uncaught exception in ZMQStream callback\",\n    435                           exc_info=True)\n    436             # Re-raise the exception so that IOLoop.handle_callback_exception\n\n...........................................................................\nC:\\ProgramData\\Anaconda3\\lib\\site-packages\\tornado\\stack_context.py in null_wrapper(*args=([<zmq.sugar.frame.Frame object>, <zmq.sugar.frame.Frame object>, <zmq.sugar.frame.Frame object>, <zmq.sugar.frame.Frame object>, <zmq.sugar.frame.Frame object>, <zmq.sugar.frame.Frame object>, <zmq.sugar.frame.Frame object>],), **kwargs={})\n    271         # Fast path when there are no active contexts.\n    272         def null_wrapper(*args, **kwargs):\n    273             try:\n    274                 current_state = _state.contexts\n    275                 _state.contexts = cap_contexts[0]\n--> 276                 return fn(*args, **kwargs)\n        args = ([<zmq.sugar.frame.Frame object>, <zmq.sugar.frame.Frame object>, <zmq.sugar.frame.Frame object>, <zmq.sugar.frame.Frame object>, <zmq.sugar.frame.Frame object>, <zmq.sugar.frame.Frame object>, <zmq.sugar.frame.Frame object>],)\n        kwargs = {}\n    277             finally:\n    278                 _state.contexts = current_state\n    279         null_wrapper._wrapped = True\n    280         return null_wrapper\n\n...........................................................................\nC:\\ProgramData\\Anaconda3\\lib\\site-packages\\ipykernel\\kernelbase.py in dispatcher(msg=[<zmq.sugar.frame.Frame object>, <zmq.sugar.frame.Frame object>, <zmq.sugar.frame.Frame object>, <zmq.sugar.frame.Frame object>, <zmq.sugar.frame.Frame object>, <zmq.sugar.frame.Frame object>, <zmq.sugar.frame.Frame object>])\n    278         if self.control_stream:\n    279             self.control_stream.on_recv(self.dispatch_control, copy=False)\n    280 \n    281         def make_dispatcher(stream):\n    282             def dispatcher(msg):\n--> 283                 return self.dispatch_shell(stream, msg)\n        msg = [<zmq.sugar.frame.Frame object>, <zmq.sugar.frame.Frame object>, <zmq.sugar.frame.Frame object>, <zmq.sugar.frame.Frame object>, <zmq.sugar.frame.Frame object>, <zmq.sugar.frame.Frame object>, <zmq.sugar.frame.Frame object>]\n    284             return dispatcher\n    285 \n    286         for s in self.shell_streams:\n    287             s.on_recv(make_dispatcher(s), copy=False)\n\n...........................................................................\nC:\\ProgramData\\Anaconda3\\lib\\site-packages\\ipykernel\\kernelbase.py in dispatch_shell(self=<ipykernel.ipkernel.IPythonKernel object>, stream=<zmq.eventloop.zmqstream.ZMQStream object>, msg={'buffers': [], 'content': {'allow_stdin': True, 'code': 'model = text_clf.fit(X,y)', 'silent': False, 'stop_on_error': True, 'store_history': True, 'user_expressions': {}}, 'header': {'date': datetime.datetime(2018, 9, 9, 4, 21, 11, 236007, tzinfo=tzutc()), 'msg_id': '6bbabcabdc584bdd9bccfd746ee4321c', 'msg_type': 'execute_request', 'session': 'dcc93219c0274af88d1892c389ab5a27', 'username': 'username', 'version': '5.2'}, 'metadata': {}, 'msg_id': '6bbabcabdc584bdd9bccfd746ee4321c', 'msg_type': 'execute_request', 'parent_header': {}})\n    228             self.log.warn(\"Unknown message type: %r\", msg_type)\n    229         else:\n    230             self.log.debug(\"%s: %s\", msg_type, msg)\n    231             self.pre_handler_hook()\n    232             try:\n--> 233                 handler(stream, idents, msg)\n        handler = <bound method Kernel.execute_request of <ipykernel.ipkernel.IPythonKernel object>>\n        stream = <zmq.eventloop.zmqstream.ZMQStream object>\n        idents = [b'dcc93219c0274af88d1892c389ab5a27']\n        msg = {'buffers': [], 'content': {'allow_stdin': True, 'code': 'model = text_clf.fit(X,y)', 'silent': False, 'stop_on_error': True, 'store_history': True, 'user_expressions': {}}, 'header': {'date': datetime.datetime(2018, 9, 9, 4, 21, 11, 236007, tzinfo=tzutc()), 'msg_id': '6bbabcabdc584bdd9bccfd746ee4321c', 'msg_type': 'execute_request', 'session': 'dcc93219c0274af88d1892c389ab5a27', 'username': 'username', 'version': '5.2'}, 'metadata': {}, 'msg_id': '6bbabcabdc584bdd9bccfd746ee4321c', 'msg_type': 'execute_request', 'parent_header': {}}\n    234             except Exception:\n    235                 self.log.error(\"Exception in message handler:\", exc_info=True)\n    236             finally:\n    237                 self.post_handler_hook()\n\n...........................................................................\nC:\\ProgramData\\Anaconda3\\lib\\site-packages\\ipykernel\\kernelbase.py in execute_request(self=<ipykernel.ipkernel.IPythonKernel object>, stream=<zmq.eventloop.zmqstream.ZMQStream object>, ident=[b'dcc93219c0274af88d1892c389ab5a27'], parent={'buffers': [], 'content': {'allow_stdin': True, 'code': 'model = text_clf.fit(X,y)', 'silent': False, 'stop_on_error': True, 'store_history': True, 'user_expressions': {}}, 'header': {'date': datetime.datetime(2018, 9, 9, 4, 21, 11, 236007, tzinfo=tzutc()), 'msg_id': '6bbabcabdc584bdd9bccfd746ee4321c', 'msg_type': 'execute_request', 'session': 'dcc93219c0274af88d1892c389ab5a27', 'username': 'username', 'version': '5.2'}, 'metadata': {}, 'msg_id': '6bbabcabdc584bdd9bccfd746ee4321c', 'msg_type': 'execute_request', 'parent_header': {}})\n    394         if not silent:\n    395             self.execution_count += 1\n    396             self._publish_execute_input(code, parent, self.execution_count)\n    397 \n    398         reply_content = self.do_execute(code, silent, store_history,\n--> 399                                         user_expressions, allow_stdin)\n        user_expressions = {}\n        allow_stdin = True\n    400 \n    401         # Flush output before sending the reply.\n    402         sys.stdout.flush()\n    403         sys.stderr.flush()\n\n...........................................................................\nC:\\ProgramData\\Anaconda3\\lib\\site-packages\\ipykernel\\ipkernel.py in do_execute(self=<ipykernel.ipkernel.IPythonKernel object>, code='model = text_clf.fit(X,y)', silent=False, store_history=True, user_expressions={}, allow_stdin=True)\n    203 \n    204         self._forward_input(allow_stdin)\n    205 \n    206         reply_content = {}\n    207         try:\n--> 208             res = shell.run_cell(code, store_history=store_history, silent=silent)\n        res = undefined\n        shell.run_cell = <bound method ZMQInteractiveShell.run_cell of <ipykernel.zmqshell.ZMQInteractiveShell object>>\n        code = 'model = text_clf.fit(X,y)'\n        store_history = True\n        silent = False\n    209         finally:\n    210             self._restore_input()\n    211 \n    212         if res.error_before_exec is not None:\n\n...........................................................................\nC:\\ProgramData\\Anaconda3\\lib\\site-packages\\ipykernel\\zmqshell.py in run_cell(self=<ipykernel.zmqshell.ZMQInteractiveShell object>, *args=('model = text_clf.fit(X,y)',), **kwargs={'silent': False, 'store_history': True})\n    532             )\n    533         self.payload_manager.write_payload(payload)\n    534 \n    535     def run_cell(self, *args, **kwargs):\n    536         self._last_traceback = None\n--> 537         return super(ZMQInteractiveShell, self).run_cell(*args, **kwargs)\n        self.run_cell = <bound method ZMQInteractiveShell.run_cell of <ipykernel.zmqshell.ZMQInteractiveShell object>>\n        args = ('model = text_clf.fit(X,y)',)\n        kwargs = {'silent': False, 'store_history': True}\n    538 \n    539     def _showtraceback(self, etype, evalue, stb):\n    540         # try to preserve ordering of tracebacks and print statements\n    541         sys.stdout.flush()\n\n...........................................................................\nC:\\ProgramData\\Anaconda3\\lib\\site-packages\\IPython\\core\\interactiveshell.py in run_cell(self=<ipykernel.zmqshell.ZMQInteractiveShell object>, raw_cell='model = text_clf.fit(X,y)', store_history=True, silent=False, shell_futures=True)\n   2657         -------\n   2658         result : :class:`ExecutionResult`\n   2659         \"\"\"\n   2660         try:\n   2661             result = self._run_cell(\n-> 2662                 raw_cell, store_history, silent, shell_futures)\n        raw_cell = 'model = text_clf.fit(X,y)'\n        store_history = True\n        silent = False\n        shell_futures = True\n   2663         finally:\n   2664             self.events.trigger('post_execute')\n   2665             if not silent:\n   2666                 self.events.trigger('post_run_cell', result)\n\n...........................................................................\nC:\\ProgramData\\Anaconda3\\lib\\site-packages\\IPython\\core\\interactiveshell.py in _run_cell(self=<ipykernel.zmqshell.ZMQInteractiveShell object>, raw_cell='model = text_clf.fit(X,y)', store_history=True, silent=False, shell_futures=True)\n   2780                 self.displayhook.exec_result = result\n   2781 \n   2782                 # Execute the user code\n   2783                 interactivity = 'none' if silent else self.ast_node_interactivity\n   2784                 has_raised = self.run_ast_nodes(code_ast.body, cell_name,\n-> 2785                    interactivity=interactivity, compiler=compiler, result=result)\n        interactivity = 'last_expr'\n        compiler = <IPython.core.compilerop.CachingCompiler object>\n   2786                 \n   2787                 self.last_execution_succeeded = not has_raised\n   2788                 self.last_execution_result = result\n   2789 \n\n...........................................................................\nC:\\ProgramData\\Anaconda3\\lib\\site-packages\\IPython\\core\\interactiveshell.py in run_ast_nodes(self=<ipykernel.zmqshell.ZMQInteractiveShell object>, nodelist=[<_ast.Assign object>], cell_name='<ipython-input-28-2213270f5880>', interactivity='none', compiler=<IPython.core.compilerop.CachingCompiler object>, result=<ExecutionResult object at 1c1b4d82fd0, executio...rue silent=False shell_futures=True> result=None>)\n   2898 \n   2899         try:\n   2900             for i, node in enumerate(to_run_exec):\n   2901                 mod = ast.Module([node])\n   2902                 code = compiler(mod, cell_name, \"exec\")\n-> 2903                 if self.run_code(code, result):\n        self.run_code = <bound method InteractiveShell.run_code of <ipykernel.zmqshell.ZMQInteractiveShell object>>\n        code = <code object <module> at 0x000001C1B4D7ED20, file \"<ipython-input-28-2213270f5880>\", line 1>\n        result = <ExecutionResult object at 1c1b4d82fd0, executio...rue silent=False shell_futures=True> result=None>\n   2904                     return True\n   2905 \n   2906             for i, node in enumerate(to_run_interactive):\n   2907                 mod = ast.Interactive([node])\n\n...........................................................................\nC:\\ProgramData\\Anaconda3\\lib\\site-packages\\IPython\\core\\interactiveshell.py in run_code(self=<ipykernel.zmqshell.ZMQInteractiveShell object>, code_obj=<code object <module> at 0x000001C1B4D7ED20, file \"<ipython-input-28-2213270f5880>\", line 1>, result=<ExecutionResult object at 1c1b4d82fd0, executio...rue silent=False shell_futures=True> result=None>)\n   2958         outflag = True  # happens in more places, so it's easier as default\n   2959         try:\n   2960             try:\n   2961                 self.hooks.pre_run_code_hook()\n   2962                 #rprint('Running code', repr(code_obj)) # dbg\n-> 2963                 exec(code_obj, self.user_global_ns, self.user_ns)\n        code_obj = <code object <module> at 0x000001C1B4D7ED20, file \"<ipython-input-28-2213270f5880>\", line 1>\n        self.user_global_ns = {'CountVectorizer': <class 'sklearn.feature_extraction.text.CountVectorizer'>, 'ExtraTreesClassifier': <class 'sklearn.ensemble.forest.ExtraTreesClassifier'>, 'GradientBoostingClassifier': <class 'sklearn.ensemble.gradient_boosting.GradientBoostingClassifier'>, 'GridSearchCV': <class 'sklearn.model_selection._search.GridSearchCV'>, 'In': ['', 'import pandas as pd\\nfrom textblob import TextBlob\\nimport string', 'df = pd.read_csv(\"Data/train.csv\")', 'df.info()', 'df.head()', \"import re \\n\\ndef preprocess_word(word):\\n    # Rem...ppend(word)\\n\\n    return ' '.join(processed_tweet)\", \"df['processed_tweets'] = df['tweet'].apply(process_tweet)\\ndf.drop('tweet',axis=1,inplace=True)\", \"df['processed_tweets'].head()\", \"df['char_count'] = df['processed_tweets'].apply(...nsity'] = df['char_count'] / (df['word_count']+1)\", 'string.punctuation', 'df.head()', \"TextBlob(df['processed_tweets'][0]).tags\", \"pos_family = {\\n    'noun' : ['NN','NNS','NNP','N...weets'].apply(lambda x: check_pos_tag(x, 'pron'))\", 'df.head()', \"from sklearn.preprocessing import MinMaxScaler\\ns...rb_count','adj_count','adv_count','pron_count']])\", 'df.head()', 'from sklearn.model_selection import train_test_s...st_split(X,y, test_size = 0.2, random_state = 42)', 'X.head()', \"\\nfrom sklearn.feature_extraction.text import Cou...            ('clf', LinearSVC(verbose=True, )),])\", 'params = {\"vect__ngram_range\": [(1, 3)],\\n       ...ue],\\n#           \"chi2__k\" :[27000],\\n#          }', ...], 'LinearSVC': <class 'sklearn.svm.classes.LinearSVC'>, 'LogisticRegression': <class 'sklearn.linear_model.logistic.LogisticRegression'>, 'MinMaxScaler': <class 'sklearn.preprocessing.data.MinMaxScaler'>, 'Out': {4:    id  label                                    ...           factsguide: society now    #motivation, 7: 0    when a father is dysfunctional and is so se... motivation\nName: processed_tweets, dtype: object, 9: '!\"#$%&\\'()*+,-./:;<=>?@[\\\\]^_`{|}~', 10:    id  label                                   p... 11      0.224359  \n4           4      0.423077  , 11: [('when', 'WRB'), ('a', 'DT'), ('father', 'NN'), ('is', 'VBZ'), ('dysfunctional', 'JJ'), ('and', 'CC'), ('is', 'VBZ'), ('so', 'RB'), ('selfish', 'JJ'), ('he', 'PRP'), ('drags', 'VBZ'), ('his', 'PRP$'), ('kids', 'NNS'), ('into', 'IN'), ('his', 'PRP$'), ('dysfunction', 'NN'), ('run', 'VB')], 13:    id  label                                   p... \n2           1  \n3           0  \n4           0  , 15:    id  label                                   p... \n2       0.125  \n3       0.000  \n4       0.000  , 17:                                     processed_tw...1    0.000000   0.083333   0.111111       0.000  , 23: (31962,), 24: (31962, 9), ...}, 'Pipeline': <class 'sklearn.pipeline.Pipeline'>, ...}\n        self.user_ns = {'CountVectorizer': <class 'sklearn.feature_extraction.text.CountVectorizer'>, 'ExtraTreesClassifier': <class 'sklearn.ensemble.forest.ExtraTreesClassifier'>, 'GradientBoostingClassifier': <class 'sklearn.ensemble.gradient_boosting.GradientBoostingClassifier'>, 'GridSearchCV': <class 'sklearn.model_selection._search.GridSearchCV'>, 'In': ['', 'import pandas as pd\\nfrom textblob import TextBlob\\nimport string', 'df = pd.read_csv(\"Data/train.csv\")', 'df.info()', 'df.head()', \"import re \\n\\ndef preprocess_word(word):\\n    # Rem...ppend(word)\\n\\n    return ' '.join(processed_tweet)\", \"df['processed_tweets'] = df['tweet'].apply(process_tweet)\\ndf.drop('tweet',axis=1,inplace=True)\", \"df['processed_tweets'].head()\", \"df['char_count'] = df['processed_tweets'].apply(...nsity'] = df['char_count'] / (df['word_count']+1)\", 'string.punctuation', 'df.head()', \"TextBlob(df['processed_tweets'][0]).tags\", \"pos_family = {\\n    'noun' : ['NN','NNS','NNP','N...weets'].apply(lambda x: check_pos_tag(x, 'pron'))\", 'df.head()', \"from sklearn.preprocessing import MinMaxScaler\\ns...rb_count','adj_count','adv_count','pron_count']])\", 'df.head()', 'from sklearn.model_selection import train_test_s...st_split(X,y, test_size = 0.2, random_state = 42)', 'X.head()', \"\\nfrom sklearn.feature_extraction.text import Cou...            ('clf', LinearSVC(verbose=True, )),])\", 'params = {\"vect__ngram_range\": [(1, 3)],\\n       ...ue],\\n#           \"chi2__k\" :[27000],\\n#          }', ...], 'LinearSVC': <class 'sklearn.svm.classes.LinearSVC'>, 'LogisticRegression': <class 'sklearn.linear_model.logistic.LogisticRegression'>, 'MinMaxScaler': <class 'sklearn.preprocessing.data.MinMaxScaler'>, 'Out': {4:    id  label                                    ...           factsguide: society now    #motivation, 7: 0    when a father is dysfunctional and is so se... motivation\nName: processed_tweets, dtype: object, 9: '!\"#$%&\\'()*+,-./:;<=>?@[\\\\]^_`{|}~', 10:    id  label                                   p... 11      0.224359  \n4           4      0.423077  , 11: [('when', 'WRB'), ('a', 'DT'), ('father', 'NN'), ('is', 'VBZ'), ('dysfunctional', 'JJ'), ('and', 'CC'), ('is', 'VBZ'), ('so', 'RB'), ('selfish', 'JJ'), ('he', 'PRP'), ('drags', 'VBZ'), ('his', 'PRP$'), ('kids', 'NNS'), ('into', 'IN'), ('his', 'PRP$'), ('dysfunction', 'NN'), ('run', 'VB')], 13:    id  label                                   p... \n2           1  \n3           0  \n4           0  , 15:    id  label                                   p... \n2       0.125  \n3       0.000  \n4       0.000  , 17:                                     processed_tw...1    0.000000   0.083333   0.111111       0.000  , 23: (31962,), 24: (31962, 9), ...}, 'Pipeline': <class 'sklearn.pipeline.Pipeline'>, ...}\n   2964             finally:\n   2965                 # Reset our crash handler in place\n   2966                 sys.excepthook = old_excepthook\n   2967         except SystemExit as e:\n\n...........................................................................\nD:\\My Works\\Twitter Sentiment Analysis\\<ipython-input-28-2213270f5880> in <module>()\n----> 1 model = text_clf.fit(X,y)\n\n...........................................................................\nC:\\ProgramData\\Anaconda3\\lib\\site-packages\\sklearn\\model_selection\\_search.py in fit(self=GridSearchCV(cv=None, error_score='raise',\n     ...ain_score='warn',\n       scoring=None, verbose=2), X=                                        processe...0  \n31961       0.250  \n\n[31962 rows x 9 columns], y=       label\n0          0\n1          0\n2        ...960      1\n31961      0\n\n[31962 rows x 1 columns], groups=None, **fit_params={})\n    634                                   return_train_score=self.return_train_score,\n    635                                   return_n_test_samples=True,\n    636                                   return_times=True, return_parameters=False,\n    637                                   error_score=self.error_score)\n    638           for parameters, (train, test) in product(candidate_params,\n--> 639                                                    cv.split(X, y, groups)))\n        cv.split = <bound method StratifiedKFold.split of Stratifie...ld(n_splits=3, random_state=None, shuffle=False)>\n        X =                                         processe...0  \n31961       0.250  \n\n[31962 rows x 9 columns]\n        y =        label\n0          0\n1          0\n2        ...960      1\n31961      0\n\n[31962 rows x 1 columns]\n        groups = None\n    640 \n    641         # if one choose to see train score, \"out\" will contain train score info\n    642         if self.return_train_score:\n    643             (train_score_dicts, test_score_dicts, test_sample_counts, fit_time,\n\n...........................................................................\nC:\\ProgramData\\Anaconda3\\lib\\site-packages\\sklearn\\externals\\joblib\\parallel.py in __call__(self=Parallel(n_jobs=-1), iterable=<generator object BaseSearchCV.fit.<locals>.<genexpr>>)\n    784             if pre_dispatch == \"all\" or n_jobs == 1:\n    785                 # The iterable was consumed all at once by the above for loop.\n    786                 # No need to wait for async callbacks to trigger to\n    787                 # consumption.\n    788                 self._iterating = False\n--> 789             self.retrieve()\n        self.retrieve = <bound method Parallel.retrieve of Parallel(n_jobs=-1)>\n    790             # Make sure that we get a last message telling us we are done\n    791             elapsed_time = time.time() - self._start_time\n    792             self._print('Done %3i out of %3i | elapsed: %s finished',\n    793                         (len(self._output), len(self._output),\n\n---------------------------------------------------------------------------\nSub-process traceback:\n---------------------------------------------------------------------------\nValueError                                         Sun Sep  9 09:51:15 2018\nPID: 5448                 Python 3.6.5: C:\\ProgramData\\Anaconda3\\python.exe\n...........................................................................\nC:\\ProgramData\\Anaconda3\\lib\\site-packages\\sklearn\\externals\\joblib\\parallel.py in __call__(self=<sklearn.externals.joblib.parallel.BatchedCalls object>)\n    126     def __init__(self, iterator_slice):\n    127         self.items = list(iterator_slice)\n    128         self._size = len(self.items)\n    129 \n    130     def __call__(self):\n--> 131         return [func(*args, **kwargs) for func, args, kwargs in self.items]\n        self.items = [(<function _fit_and_score>, (Pipeline(memory=None,\n     steps=[('vect', Count...', random_state=None, tol=1e-05, verbose=True))]),                                         processe...   0.000000       0.250\n\n[31962 rows x 9 columns],        label\n0          0\n1          0\n2        ...960      1\n31961      0\n\n[31962 rows x 1 columns], {'score': <function _passthrough_scorer>}, array([10655, 10656, 10657, ..., 31959, 31960, 31961]), array([    0,     1,     2, ..., 10652, 10653, 10654]), 2, {'chi2__k': 25000, 'clf__C': 2.4, 'clf__loss': 'hinge', 'clf__max_iter': 6, 'clf__tol': 1e-05, 'tfidf__use_idf': True, 'vect__max_df': 0.9, 'vect__ngram_range': (1, 3), 'vect__strip_accents': 'unicode'}), {'error_score': 'raise', 'fit_params': {}, 'return_n_test_samples': True, 'return_parameters': False, 'return_times': True, 'return_train_score': 'warn'})]\n    132 \n    133     def __len__(self):\n    134         return self._size\n    135 \n\n...........................................................................\nC:\\ProgramData\\Anaconda3\\lib\\site-packages\\sklearn\\externals\\joblib\\parallel.py in <listcomp>(.0=<list_iterator object>)\n    126     def __init__(self, iterator_slice):\n    127         self.items = list(iterator_slice)\n    128         self._size = len(self.items)\n    129 \n    130     def __call__(self):\n--> 131         return [func(*args, **kwargs) for func, args, kwargs in self.items]\n        func = <function _fit_and_score>\n        args = (Pipeline(memory=None,\n     steps=[('vect', Count...', random_state=None, tol=1e-05, verbose=True))]),                                         processe...   0.000000       0.250\n\n[31962 rows x 9 columns],        label\n0          0\n1          0\n2        ...960      1\n31961      0\n\n[31962 rows x 1 columns], {'score': <function _passthrough_scorer>}, array([10655, 10656, 10657, ..., 31959, 31960, 31961]), array([    0,     1,     2, ..., 10652, 10653, 10654]), 2, {'chi2__k': 25000, 'clf__C': 2.4, 'clf__loss': 'hinge', 'clf__max_iter': 6, 'clf__tol': 1e-05, 'tfidf__use_idf': True, 'vect__max_df': 0.9, 'vect__ngram_range': (1, 3), 'vect__strip_accents': 'unicode'})\n        kwargs = {'error_score': 'raise', 'fit_params': {}, 'return_n_test_samples': True, 'return_parameters': False, 'return_times': True, 'return_train_score': 'warn'}\n    132 \n    133     def __len__(self):\n    134         return self._size\n    135 \n\n...........................................................................\nC:\\ProgramData\\Anaconda3\\lib\\site-packages\\sklearn\\model_selection\\_validation.py in _fit_and_score(estimator=Pipeline(memory=None,\n     steps=[('vect', Count...', random_state=None, tol=1e-05, verbose=True))]), X=                                        processe...   0.000000       0.250\n\n[31962 rows x 9 columns], y=       label\n0          0\n1          0\n2        ...960      1\n31961      0\n\n[31962 rows x 1 columns], scorer={'score': <function _passthrough_scorer>}, train=array([10655, 10656, 10657, ..., 31959, 31960, 31961]), test=array([    0,     1,     2, ..., 10652, 10653, 10654]), verbose=2, parameters={'chi2__k': 25000, 'clf__C': 2.4, 'clf__loss': 'hinge', 'clf__max_iter': 6, 'clf__tol': 1e-05, 'tfidf__use_idf': True, 'vect__max_df': 0.9, 'vect__ngram_range': (1, 3), 'vect__strip_accents': 'unicode'}, fit_params={}, return_train_score='warn', return_parameters=False, return_n_test_samples=True, return_times=True, error_score='raise')\n    453 \n    454     try:\n    455         if y_train is None:\n    456             estimator.fit(X_train, **fit_params)\n    457         else:\n--> 458             estimator.fit(X_train, y_train, **fit_params)\n        estimator.fit = <bound method Pipeline.fit of Pipeline(memory=No..., random_state=None, tol=1e-05, verbose=True))])>\n        X_train =                                         processe...   0.000000       0.250\n\n[21307 rows x 9 columns]\n        y_train =        label\n10655      0\n10656      0\n10657    ...960      1\n31961      0\n\n[21307 rows x 1 columns]\n        fit_params = {}\n    459 \n    460     except Exception as e:\n    461         # Note fit time as time until error\n    462         fit_time = time.time() - start_time\n\n...........................................................................\nC:\\ProgramData\\Anaconda3\\lib\\site-packages\\sklearn\\pipeline.py in fit(self=Pipeline(memory=None,\n     steps=[('vect', Count...', random_state=None, tol=1e-05, verbose=True))]), X=                                        processe...   0.000000       0.250\n\n[21307 rows x 9 columns], y=       label\n10655      0\n10656      0\n10657    ...960      1\n31961      0\n\n[21307 rows x 1 columns], **fit_params={})\n    243         Returns\n    244         -------\n    245         self : Pipeline\n    246             This estimator\n    247         \"\"\"\n--> 248         Xt, fit_params = self._fit(X, y, **fit_params)\n        Xt = undefined\n        fit_params = {}\n        self._fit = <bound method Pipeline._fit of Pipeline(memory=N..., random_state=None, tol=1e-05, verbose=True))])>\n        X =                                         processe...   0.000000       0.250\n\n[21307 rows x 9 columns]\n        y =        label\n10655      0\n10656      0\n10657    ...960      1\n31961      0\n\n[21307 rows x 1 columns]\n    249         if self._final_estimator is not None:\n    250             self._final_estimator.fit(Xt, y, **fit_params)\n    251         return self\n    252 \n\n...........................................................................\nC:\\ProgramData\\Anaconda3\\lib\\site-packages\\sklearn\\pipeline.py in _fit(self=Pipeline(memory=None,\n     steps=[('vect', Count...', random_state=None, tol=1e-05, verbose=True))]), X=                                        processe...   0.000000       0.250\n\n[21307 rows x 9 columns], y=       label\n10655      0\n10656      0\n10657    ...960      1\n31961      0\n\n[21307 rows x 1 columns], **fit_params={})\n    208                 else:\n    209                     cloned_transformer = clone(transformer)\n    210                 # Fit or load from cache the current transfomer\n    211                 Xt, fitted_transformer = fit_transform_one_cached(\n    212                     cloned_transformer, None, Xt, y,\n--> 213                     **fit_params_steps[name])\n        fit_params_steps = {'chi2': {}, 'clf': {}, 'tfidf': {}, 'vect': {}}\n        name = 'chi2'\n    214                 # Replace the transformer of the step with the fitted\n    215                 # transformer. This is necessary when loading the transformer\n    216                 # from the cache.\n    217                 self.steps[step_idx] = (name, fitted_transformer)\n\n...........................................................................\nC:\\ProgramData\\Anaconda3\\lib\\site-packages\\sklearn\\externals\\joblib\\memory.py in __call__(self=NotMemorizedFunc(func=<function _fit_transform_one at 0x0000018EC420F1E0>), *args=(SelectKBest(k=25000, score_func=<function chi2 at 0x0000018EC40462F0>), None, <9x9 sparse matrix of type '<class 'numpy.float6... stored elements in Compressed Sparse Row format>,        label\n10655      0\n10656      0\n10657    ...960      1\n31961      0\n\n[21307 rows x 1 columns]), **kwargs={})\n    357     # Should be a light as possible (for speed)\n    358     def __init__(self, func):\n    359         self.func = func\n    360 \n    361     def __call__(self, *args, **kwargs):\n--> 362         return self.func(*args, **kwargs)\n        self.func = <function _fit_transform_one>\n        args = (SelectKBest(k=25000, score_func=<function chi2 at 0x0000018EC40462F0>), None, <9x9 sparse matrix of type '<class 'numpy.float6... stored elements in Compressed Sparse Row format>,        label\n10655      0\n10656      0\n10657    ...960      1\n31961      0\n\n[21307 rows x 1 columns])\n        kwargs = {}\n    363 \n    364     def call_and_shelve(self, *args, **kwargs):\n    365         return NotMemorizedResult(self.func(*args, **kwargs))\n    366 \n\n...........................................................................\nC:\\ProgramData\\Anaconda3\\lib\\site-packages\\sklearn\\pipeline.py in _fit_transform_one(transformer=SelectKBest(k=25000, score_func=<function chi2 at 0x0000018EC40462F0>), weight=None, X=<9x9 sparse matrix of type '<class 'numpy.float6... stored elements in Compressed Sparse Row format>, y=       label\n10655      0\n10656      0\n10657    ...960      1\n31961      0\n\n[21307 rows x 1 columns], **fit_params={})\n    576 \n    577 \n    578 def _fit_transform_one(transformer, weight, X, y,\n    579                        **fit_params):\n    580     if hasattr(transformer, 'fit_transform'):\n--> 581         res = transformer.fit_transform(X, y, **fit_params)\n        res = undefined\n        transformer.fit_transform = <bound method TransformerMixin.fit_transform of ...core_func=<function chi2 at 0x0000018EC40462F0>)>\n        X = <9x9 sparse matrix of type '<class 'numpy.float6... stored elements in Compressed Sparse Row format>\n        y =        label\n10655      0\n10656      0\n10657    ...960      1\n31961      0\n\n[21307 rows x 1 columns]\n        fit_params = {}\n    582     else:\n    583         res = transformer.fit(X, y, **fit_params).transform(X)\n    584     # if we have a weight for this transformer, multiply output\n    585     if weight is None:\n\n...........................................................................\nC:\\ProgramData\\Anaconda3\\lib\\site-packages\\sklearn\\base.py in fit_transform(self=SelectKBest(k=25000, score_func=<function chi2 at 0x0000018EC40462F0>), X=<9x9 sparse matrix of type '<class 'numpy.float6... stored elements in Compressed Sparse Row format>, y=       label\n10655      0\n10656      0\n10657    ...960      1\n31961      0\n\n[21307 rows x 1 columns], **fit_params={})\n    515         if y is None:\n    516             # fit method of arity 1 (unsupervised transformation)\n    517             return self.fit(X, **fit_params).transform(X)\n    518         else:\n    519             # fit method of arity 2 (supervised transformation)\n--> 520             return self.fit(X, y, **fit_params).transform(X)\n        self.fit = <bound method _BaseFilter.fit of SelectKBest(k=2...core_func=<function chi2 at 0x0000018EC40462F0>)>\n        X = <9x9 sparse matrix of type '<class 'numpy.float6... stored elements in Compressed Sparse Row format>\n        y =        label\n10655      0\n10656      0\n10657    ...960      1\n31961      0\n\n[21307 rows x 1 columns]\n        fit_params.transform = undefined\n    521 \n    522 \n    523 class DensityMixin(object):\n    524     \"\"\"Mixin class for all density estimators in scikit-learn.\"\"\"\n\n...........................................................................\nC:\\ProgramData\\Anaconda3\\lib\\site-packages\\sklearn\\feature_selection\\univariate_selection.py in fit(self=SelectKBest(k=25000, score_func=<function chi2 at 0x0000018EC40462F0>), X=<9x9 sparse matrix of type '<class 'numpy.float6... stored elements in Compressed Sparse Row format>, y=       label\n10655      0\n10656      0\n10657    ...960      1\n31961      0\n\n[21307 rows x 1 columns])\n    336         Returns\n    337         -------\n    338         self : object\n    339             Returns self.\n    340         \"\"\"\n--> 341         X, y = check_X_y(X, y, ['csr', 'csc'], multi_output=True)\n        X = <9x9 sparse matrix of type '<class 'numpy.float6... stored elements in Compressed Sparse Row format>\n        y =        label\n10655      0\n10656      0\n10657    ...960      1\n31961      0\n\n[21307 rows x 1 columns]\n    342 \n    343         if not callable(self.score_func):\n    344             raise TypeError(\"The score function should be a callable, %s (%s) \"\n    345                             \"was passed.\"\n\n...........................................................................\nC:\\ProgramData\\Anaconda3\\lib\\site-packages\\sklearn\\utils\\validation.py in check_X_y(X=<9x9 sparse matrix of type '<class 'numpy.float6... stored elements in Compressed Sparse Row format>, y=array([[0],\n       [0],\n       [0],\n       ...,\n       [0],\n       [1],\n       [0]], dtype=int64), accept_sparse=['csr', 'csc'], dtype='numeric', order=None, copy=False, force_all_finite=True, ensure_2d=True, allow_nd=False, multi_output=True, ensure_min_samples=1, ensure_min_features=1, y_numeric=False, warn_on_dtype=False, estimator=None)\n    578         y = column_or_1d(y, warn=True)\n    579         _assert_all_finite(y)\n    580     if y_numeric and y.dtype.kind == 'O':\n    581         y = y.astype(np.float64)\n    582 \n--> 583     check_consistent_length(X, y)\n        X = <9x9 sparse matrix of type '<class 'numpy.float6... stored elements in Compressed Sparse Row format>\n        y = array([[0],\n       [0],\n       [0],\n       ...,\n       [0],\n       [1],\n       [0]], dtype=int64)\n    584 \n    585     return X, y\n    586 \n    587 \n\n...........................................................................\nC:\\ProgramData\\Anaconda3\\lib\\site-packages\\sklearn\\utils\\validation.py in check_consistent_length(*arrays=(<9x9 sparse matrix of type '<class 'numpy.float6... stored elements in Compressed Sparse Row format>, array([[0],\n       [0],\n       [0],\n       ...,\n       [0],\n       [1],\n       [0]], dtype=int64)))\n    199 \n    200     lengths = [_num_samples(X) for X in arrays if X is not None]\n    201     uniques = np.unique(lengths)\n    202     if len(uniques) > 1:\n    203         raise ValueError(\"Found input variables with inconsistent numbers of\"\n--> 204                          \" samples: %r\" % [int(l) for l in lengths])\n        lengths = [9, 21307]\n    205 \n    206 \n    207 def indexable(*iterables):\n    208     \"\"\"Make arrays indexable for cross-validation.\n\nValueError: Found input variables with inconsistent numbers of samples: [9, 21307]\n___________________________________________________________________________",
     "output_type": "error",
     "traceback": [
      "\u001b[1;31m---------------------------------------------------------------------------\u001b[0m",
      "\u001b[1;31mRemoteTraceback\u001b[0m                           Traceback (most recent call last)",
      "\u001b[1;31mRemoteTraceback\u001b[0m: \n\"\"\"\nTraceback (most recent call last):\n  File \"C:\\ProgramData\\Anaconda3\\lib\\site-packages\\sklearn\\externals\\joblib\\_parallel_backends.py\", line 350, in __call__\n    return self.func(*args, **kwargs)\n  File \"C:\\ProgramData\\Anaconda3\\lib\\site-packages\\sklearn\\externals\\joblib\\parallel.py\", line 131, in __call__\n    return [func(*args, **kwargs) for func, args, kwargs in self.items]\n  File \"C:\\ProgramData\\Anaconda3\\lib\\site-packages\\sklearn\\externals\\joblib\\parallel.py\", line 131, in <listcomp>\n    return [func(*args, **kwargs) for func, args, kwargs in self.items]\n  File \"C:\\ProgramData\\Anaconda3\\lib\\site-packages\\sklearn\\model_selection\\_validation.py\", line 458, in _fit_and_score\n    estimator.fit(X_train, y_train, **fit_params)\n  File \"C:\\ProgramData\\Anaconda3\\lib\\site-packages\\sklearn\\pipeline.py\", line 248, in fit\n    Xt, fit_params = self._fit(X, y, **fit_params)\n  File \"C:\\ProgramData\\Anaconda3\\lib\\site-packages\\sklearn\\pipeline.py\", line 213, in _fit\n    **fit_params_steps[name])\n  File \"C:\\ProgramData\\Anaconda3\\lib\\site-packages\\sklearn\\externals\\joblib\\memory.py\", line 362, in __call__\n    return self.func(*args, **kwargs)\n  File \"C:\\ProgramData\\Anaconda3\\lib\\site-packages\\sklearn\\pipeline.py\", line 581, in _fit_transform_one\n    res = transformer.fit_transform(X, y, **fit_params)\n  File \"C:\\ProgramData\\Anaconda3\\lib\\site-packages\\sklearn\\base.py\", line 520, in fit_transform\n    return self.fit(X, y, **fit_params).transform(X)\n  File \"C:\\ProgramData\\Anaconda3\\lib\\site-packages\\sklearn\\feature_selection\\univariate_selection.py\", line 341, in fit\n    X, y = check_X_y(X, y, ['csr', 'csc'], multi_output=True)\n  File \"C:\\ProgramData\\Anaconda3\\lib\\site-packages\\sklearn\\utils\\validation.py\", line 583, in check_X_y\n    check_consistent_length(X, y)\n  File \"C:\\ProgramData\\Anaconda3\\lib\\site-packages\\sklearn\\utils\\validation.py\", line 204, in check_consistent_length\n    \" samples: %r\" % [int(l) for l in lengths])\nValueError: Found input variables with inconsistent numbers of samples: [9, 21307]\n\nDuring handling of the above exception, another exception occurred:\n\nTraceback (most recent call last):\n  File \"C:\\ProgramData\\Anaconda3\\lib\\multiprocessing\\pool.py\", line 119, in worker\n    result = (True, func(*args, **kwds))\n  File \"C:\\ProgramData\\Anaconda3\\lib\\site-packages\\sklearn\\externals\\joblib\\_parallel_backends.py\", line 359, in __call__\n    raise TransportableException(text, e_type)\nsklearn.externals.joblib.my_exceptions.TransportableException: TransportableException\n___________________________________________________________________________\nValueError                                         Sun Sep  9 09:51:15 2018\nPID: 5448                 Python 3.6.5: C:\\ProgramData\\Anaconda3\\python.exe\n...........................................................................\nC:\\ProgramData\\Anaconda3\\lib\\site-packages\\sklearn\\externals\\joblib\\parallel.py in __call__(self=<sklearn.externals.joblib.parallel.BatchedCalls object>)\n    126     def __init__(self, iterator_slice):\n    127         self.items = list(iterator_slice)\n    128         self._size = len(self.items)\n    129 \n    130     def __call__(self):\n--> 131         return [func(*args, **kwargs) for func, args, kwargs in self.items]\n        self.items = [(<function _fit_and_score>, (Pipeline(memory=None,\n     steps=[('vect', Count...', random_state=None, tol=1e-05, verbose=True))]),                                         processe...   0.000000       0.250\n\n[31962 rows x 9 columns],        label\n0          0\n1          0\n2        ...960      1\n31961      0\n\n[31962 rows x 1 columns], {'score': <function _passthrough_scorer>}, array([10655, 10656, 10657, ..., 31959, 31960, 31961]), array([    0,     1,     2, ..., 10652, 10653, 10654]), 2, {'chi2__k': 25000, 'clf__C': 2.4, 'clf__loss': 'hinge', 'clf__max_iter': 6, 'clf__tol': 1e-05, 'tfidf__use_idf': True, 'vect__max_df': 0.9, 'vect__ngram_range': (1, 3), 'vect__strip_accents': 'unicode'}), {'error_score': 'raise', 'fit_params': {}, 'return_n_test_samples': True, 'return_parameters': False, 'return_times': True, 'return_train_score': 'warn'})]\n    132 \n    133     def __len__(self):\n    134         return self._size\n    135 \n\n...........................................................................\nC:\\ProgramData\\Anaconda3\\lib\\site-packages\\sklearn\\externals\\joblib\\parallel.py in <listcomp>(.0=<list_iterator object>)\n    126     def __init__(self, iterator_slice):\n    127         self.items = list(iterator_slice)\n    128         self._size = len(self.items)\n    129 \n    130     def __call__(self):\n--> 131         return [func(*args, **kwargs) for func, args, kwargs in self.items]\n        func = <function _fit_and_score>\n        args = (Pipeline(memory=None,\n     steps=[('vect', Count...', random_state=None, tol=1e-05, verbose=True))]),                                         processe...   0.000000       0.250\n\n[31962 rows x 9 columns],        label\n0          0\n1          0\n2        ...960      1\n31961      0\n\n[31962 rows x 1 columns], {'score': <function _passthrough_scorer>}, array([10655, 10656, 10657, ..., 31959, 31960, 31961]), array([    0,     1,     2, ..., 10652, 10653, 10654]), 2, {'chi2__k': 25000, 'clf__C': 2.4, 'clf__loss': 'hinge', 'clf__max_iter': 6, 'clf__tol': 1e-05, 'tfidf__use_idf': True, 'vect__max_df': 0.9, 'vect__ngram_range': (1, 3), 'vect__strip_accents': 'unicode'})\n        kwargs = {'error_score': 'raise', 'fit_params': {}, 'return_n_test_samples': True, 'return_parameters': False, 'return_times': True, 'return_train_score': 'warn'}\n    132 \n    133     def __len__(self):\n    134         return self._size\n    135 \n\n...........................................................................\nC:\\ProgramData\\Anaconda3\\lib\\site-packages\\sklearn\\model_selection\\_validation.py in _fit_and_score(estimator=Pipeline(memory=None,\n     steps=[('vect', Count...', random_state=None, tol=1e-05, verbose=True))]), X=                                        processe...   0.000000       0.250\n\n[31962 rows x 9 columns], y=       label\n0          0\n1          0\n2        ...960      1\n31961      0\n\n[31962 rows x 1 columns], scorer={'score': <function _passthrough_scorer>}, train=array([10655, 10656, 10657, ..., 31959, 31960, 31961]), test=array([    0,     1,     2, ..., 10652, 10653, 10654]), verbose=2, parameters={'chi2__k': 25000, 'clf__C': 2.4, 'clf__loss': 'hinge', 'clf__max_iter': 6, 'clf__tol': 1e-05, 'tfidf__use_idf': True, 'vect__max_df': 0.9, 'vect__ngram_range': (1, 3), 'vect__strip_accents': 'unicode'}, fit_params={}, return_train_score='warn', return_parameters=False, return_n_test_samples=True, return_times=True, error_score='raise')\n    453 \n    454     try:\n    455         if y_train is None:\n    456             estimator.fit(X_train, **fit_params)\n    457         else:\n--> 458             estimator.fit(X_train, y_train, **fit_params)\n        estimator.fit = <bound method Pipeline.fit of Pipeline(memory=No..., random_state=None, tol=1e-05, verbose=True))])>\n        X_train =                                         processe...   0.000000       0.250\n\n[21307 rows x 9 columns]\n        y_train =        label\n10655      0\n10656      0\n10657    ...960      1\n31961      0\n\n[21307 rows x 1 columns]\n        fit_params = {}\n    459 \n    460     except Exception as e:\n    461         # Note fit time as time until error\n    462         fit_time = time.time() - start_time\n\n...........................................................................\nC:\\ProgramData\\Anaconda3\\lib\\site-packages\\sklearn\\pipeline.py in fit(self=Pipeline(memory=None,\n     steps=[('vect', Count...', random_state=None, tol=1e-05, verbose=True))]), X=                                        processe...   0.000000       0.250\n\n[21307 rows x 9 columns], y=       label\n10655      0\n10656      0\n10657    ...960      1\n31961      0\n\n[21307 rows x 1 columns], **fit_params={})\n    243         Returns\n    244         -------\n    245         self : Pipeline\n    246             This estimator\n    247         \"\"\"\n--> 248         Xt, fit_params = self._fit(X, y, **fit_params)\n        Xt = undefined\n        fit_params = {}\n        self._fit = <bound method Pipeline._fit of Pipeline(memory=N..., random_state=None, tol=1e-05, verbose=True))])>\n        X =                                         processe...   0.000000       0.250\n\n[21307 rows x 9 columns]\n        y =        label\n10655      0\n10656      0\n10657    ...960      1\n31961      0\n\n[21307 rows x 1 columns]\n    249         if self._final_estimator is not None:\n    250             self._final_estimator.fit(Xt, y, **fit_params)\n    251         return self\n    252 \n\n...........................................................................\nC:\\ProgramData\\Anaconda3\\lib\\site-packages\\sklearn\\pipeline.py in _fit(self=Pipeline(memory=None,\n     steps=[('vect', Count...', random_state=None, tol=1e-05, verbose=True))]), X=                                        processe...   0.000000       0.250\n\n[21307 rows x 9 columns], y=       label\n10655      0\n10656      0\n10657    ...960      1\n31961      0\n\n[21307 rows x 1 columns], **fit_params={})\n    208                 else:\n    209                     cloned_transformer = clone(transformer)\n    210                 # Fit or load from cache the current transfomer\n    211                 Xt, fitted_transformer = fit_transform_one_cached(\n    212                     cloned_transformer, None, Xt, y,\n--> 213                     **fit_params_steps[name])\n        fit_params_steps = {'chi2': {}, 'clf': {}, 'tfidf': {}, 'vect': {}}\n        name = 'chi2'\n    214                 # Replace the transformer of the step with the fitted\n    215                 # transformer. This is necessary when loading the transformer\n    216                 # from the cache.\n    217                 self.steps[step_idx] = (name, fitted_transformer)\n\n...........................................................................\nC:\\ProgramData\\Anaconda3\\lib\\site-packages\\sklearn\\externals\\joblib\\memory.py in __call__(self=NotMemorizedFunc(func=<function _fit_transform_one at 0x0000018EC420F1E0>), *args=(SelectKBest(k=25000, score_func=<function chi2 at 0x0000018EC40462F0>), None, <9x9 sparse matrix of type '<class 'numpy.float6... stored elements in Compressed Sparse Row format>,        label\n10655      0\n10656      0\n10657    ...960      1\n31961      0\n\n[21307 rows x 1 columns]), **kwargs={})\n    357     # Should be a light as possible (for speed)\n    358     def __init__(self, func):\n    359         self.func = func\n    360 \n    361     def __call__(self, *args, **kwargs):\n--> 362         return self.func(*args, **kwargs)\n        self.func = <function _fit_transform_one>\n        args = (SelectKBest(k=25000, score_func=<function chi2 at 0x0000018EC40462F0>), None, <9x9 sparse matrix of type '<class 'numpy.float6... stored elements in Compressed Sparse Row format>,        label\n10655      0\n10656      0\n10657    ...960      1\n31961      0\n\n[21307 rows x 1 columns])\n        kwargs = {}\n    363 \n    364     def call_and_shelve(self, *args, **kwargs):\n    365         return NotMemorizedResult(self.func(*args, **kwargs))\n    366 \n\n...........................................................................\nC:\\ProgramData\\Anaconda3\\lib\\site-packages\\sklearn\\pipeline.py in _fit_transform_one(transformer=SelectKBest(k=25000, score_func=<function chi2 at 0x0000018EC40462F0>), weight=None, X=<9x9 sparse matrix of type '<class 'numpy.float6... stored elements in Compressed Sparse Row format>, y=       label\n10655      0\n10656      0\n10657    ...960      1\n31961      0\n\n[21307 rows x 1 columns], **fit_params={})\n    576 \n    577 \n    578 def _fit_transform_one(transformer, weight, X, y,\n    579                        **fit_params):\n    580     if hasattr(transformer, 'fit_transform'):\n--> 581         res = transformer.fit_transform(X, y, **fit_params)\n        res = undefined\n        transformer.fit_transform = <bound method TransformerMixin.fit_transform of ...core_func=<function chi2 at 0x0000018EC40462F0>)>\n        X = <9x9 sparse matrix of type '<class 'numpy.float6... stored elements in Compressed Sparse Row format>\n        y =        label\n10655      0\n10656      0\n10657    ...960      1\n31961      0\n\n[21307 rows x 1 columns]\n        fit_params = {}\n    582     else:\n    583         res = transformer.fit(X, y, **fit_params).transform(X)\n    584     # if we have a weight for this transformer, multiply output\n    585     if weight is None:\n\n...........................................................................\nC:\\ProgramData\\Anaconda3\\lib\\site-packages\\sklearn\\base.py in fit_transform(self=SelectKBest(k=25000, score_func=<function chi2 at 0x0000018EC40462F0>), X=<9x9 sparse matrix of type '<class 'numpy.float6... stored elements in Compressed Sparse Row format>, y=       label\n10655      0\n10656      0\n10657    ...960      1\n31961      0\n\n[21307 rows x 1 columns], **fit_params={})\n    515         if y is None:\n    516             # fit method of arity 1 (unsupervised transformation)\n    517             return self.fit(X, **fit_params).transform(X)\n    518         else:\n    519             # fit method of arity 2 (supervised transformation)\n--> 520             return self.fit(X, y, **fit_params).transform(X)\n        self.fit = <bound method _BaseFilter.fit of SelectKBest(k=2...core_func=<function chi2 at 0x0000018EC40462F0>)>\n        X = <9x9 sparse matrix of type '<class 'numpy.float6... stored elements in Compressed Sparse Row format>\n        y =        label\n10655      0\n10656      0\n10657    ...960      1\n31961      0\n\n[21307 rows x 1 columns]\n        fit_params.transform = undefined\n    521 \n    522 \n    523 class DensityMixin(object):\n    524     \"\"\"Mixin class for all density estimators in scikit-learn.\"\"\"\n\n...........................................................................\nC:\\ProgramData\\Anaconda3\\lib\\site-packages\\sklearn\\feature_selection\\univariate_selection.py in fit(self=SelectKBest(k=25000, score_func=<function chi2 at 0x0000018EC40462F0>), X=<9x9 sparse matrix of type '<class 'numpy.float6... stored elements in Compressed Sparse Row format>, y=       label\n10655      0\n10656      0\n10657    ...960      1\n31961      0\n\n[21307 rows x 1 columns])\n    336         Returns\n    337         -------\n    338         self : object\n    339             Returns self.\n    340         \"\"\"\n--> 341         X, y = check_X_y(X, y, ['csr', 'csc'], multi_output=True)\n        X = <9x9 sparse matrix of type '<class 'numpy.float6... stored elements in Compressed Sparse Row format>\n        y =        label\n10655      0\n10656      0\n10657    ...960      1\n31961      0\n\n[21307 rows x 1 columns]\n    342 \n    343         if not callable(self.score_func):\n    344             raise TypeError(\"The score function should be a callable, %s (%s) \"\n    345                             \"was passed.\"\n\n...........................................................................\nC:\\ProgramData\\Anaconda3\\lib\\site-packages\\sklearn\\utils\\validation.py in check_X_y(X=<9x9 sparse matrix of type '<class 'numpy.float6... stored elements in Compressed Sparse Row format>, y=array([[0],\n       [0],\n       [0],\n       ...,\n       [0],\n       [1],\n       [0]], dtype=int64), accept_sparse=['csr', 'csc'], dtype='numeric', order=None, copy=False, force_all_finite=True, ensure_2d=True, allow_nd=False, multi_output=True, ensure_min_samples=1, ensure_min_features=1, y_numeric=False, warn_on_dtype=False, estimator=None)\n    578         y = column_or_1d(y, warn=True)\n    579         _assert_all_finite(y)\n    580     if y_numeric and y.dtype.kind == 'O':\n    581         y = y.astype(np.float64)\n    582 \n--> 583     check_consistent_length(X, y)\n        X = <9x9 sparse matrix of type '<class 'numpy.float6... stored elements in Compressed Sparse Row format>\n        y = array([[0],\n       [0],\n       [0],\n       ...,\n       [0],\n       [1],\n       [0]], dtype=int64)\n    584 \n    585     return X, y\n    586 \n    587 \n\n...........................................................................\nC:\\ProgramData\\Anaconda3\\lib\\site-packages\\sklearn\\utils\\validation.py in check_consistent_length(*arrays=(<9x9 sparse matrix of type '<class 'numpy.float6... stored elements in Compressed Sparse Row format>, array([[0],\n       [0],\n       [0],\n       ...,\n       [0],\n       [1],\n       [0]], dtype=int64)))\n    199 \n    200     lengths = [_num_samples(X) for X in arrays if X is not None]\n    201     uniques = np.unique(lengths)\n    202     if len(uniques) > 1:\n    203         raise ValueError(\"Found input variables with inconsistent numbers of\"\n--> 204                          \" samples: %r\" % [int(l) for l in lengths])\n        lengths = [9, 21307]\n    205 \n    206 \n    207 def indexable(*iterables):\n    208     \"\"\"Make arrays indexable for cross-validation.\n\nValueError: Found input variables with inconsistent numbers of samples: [9, 21307]\n___________________________________________________________________________\n\"\"\"",
      "\nThe above exception was the direct cause of the following exception:\n",
      "\u001b[1;31mTransportableException\u001b[0m                    Traceback (most recent call last)",
      "\u001b[1;32mC:\\ProgramData\\Anaconda3\\lib\\site-packages\\sklearn\\externals\\joblib\\parallel.py\u001b[0m in \u001b[0;36mretrieve\u001b[1;34m(self)\u001b[0m\n\u001b[0;32m    698\u001b[0m                 \u001b[1;32mif\u001b[0m \u001b[0mgetattr\u001b[0m\u001b[1;33m(\u001b[0m\u001b[0mself\u001b[0m\u001b[1;33m.\u001b[0m\u001b[0m_backend\u001b[0m\u001b[1;33m,\u001b[0m \u001b[1;34m'supports_timeout'\u001b[0m\u001b[1;33m,\u001b[0m \u001b[1;32mFalse\u001b[0m\u001b[1;33m)\u001b[0m\u001b[1;33m:\u001b[0m\u001b[1;33m\u001b[0m\u001b[0m\n\u001b[1;32m--> 699\u001b[1;33m                     \u001b[0mself\u001b[0m\u001b[1;33m.\u001b[0m\u001b[0m_output\u001b[0m\u001b[1;33m.\u001b[0m\u001b[0mextend\u001b[0m\u001b[1;33m(\u001b[0m\u001b[0mjob\u001b[0m\u001b[1;33m.\u001b[0m\u001b[0mget\u001b[0m\u001b[1;33m(\u001b[0m\u001b[0mtimeout\u001b[0m\u001b[1;33m=\u001b[0m\u001b[0mself\u001b[0m\u001b[1;33m.\u001b[0m\u001b[0mtimeout\u001b[0m\u001b[1;33m)\u001b[0m\u001b[1;33m)\u001b[0m\u001b[1;33m\u001b[0m\u001b[0m\n\u001b[0m\u001b[0;32m    700\u001b[0m                 \u001b[1;32melse\u001b[0m\u001b[1;33m:\u001b[0m\u001b[1;33m\u001b[0m\u001b[0m\n",
      "\u001b[1;32mC:\\ProgramData\\Anaconda3\\lib\\multiprocessing\\pool.py\u001b[0m in \u001b[0;36mget\u001b[1;34m(self, timeout)\u001b[0m\n\u001b[0;32m    643\u001b[0m         \u001b[1;32melse\u001b[0m\u001b[1;33m:\u001b[0m\u001b[1;33m\u001b[0m\u001b[0m\n\u001b[1;32m--> 644\u001b[1;33m             \u001b[1;32mraise\u001b[0m \u001b[0mself\u001b[0m\u001b[1;33m.\u001b[0m\u001b[0m_value\u001b[0m\u001b[1;33m\u001b[0m\u001b[0m\n\u001b[0m\u001b[0;32m    645\u001b[0m \u001b[1;33m\u001b[0m\u001b[0m\n",
      "\u001b[1;31mTransportableException\u001b[0m: TransportableException\n___________________________________________________________________________\nValueError                                         Sun Sep  9 09:51:15 2018\nPID: 5448                 Python 3.6.5: C:\\ProgramData\\Anaconda3\\python.exe\n...........................................................................\nC:\\ProgramData\\Anaconda3\\lib\\site-packages\\sklearn\\externals\\joblib\\parallel.py in __call__(self=<sklearn.externals.joblib.parallel.BatchedCalls object>)\n    126     def __init__(self, iterator_slice):\n    127         self.items = list(iterator_slice)\n    128         self._size = len(self.items)\n    129 \n    130     def __call__(self):\n--> 131         return [func(*args, **kwargs) for func, args, kwargs in self.items]\n        self.items = [(<function _fit_and_score>, (Pipeline(memory=None,\n     steps=[('vect', Count...', random_state=None, tol=1e-05, verbose=True))]),                                         processe...   0.000000       0.250\n\n[31962 rows x 9 columns],        label\n0          0\n1          0\n2        ...960      1\n31961      0\n\n[31962 rows x 1 columns], {'score': <function _passthrough_scorer>}, array([10655, 10656, 10657, ..., 31959, 31960, 31961]), array([    0,     1,     2, ..., 10652, 10653, 10654]), 2, {'chi2__k': 25000, 'clf__C': 2.4, 'clf__loss': 'hinge', 'clf__max_iter': 6, 'clf__tol': 1e-05, 'tfidf__use_idf': True, 'vect__max_df': 0.9, 'vect__ngram_range': (1, 3), 'vect__strip_accents': 'unicode'}), {'error_score': 'raise', 'fit_params': {}, 'return_n_test_samples': True, 'return_parameters': False, 'return_times': True, 'return_train_score': 'warn'})]\n    132 \n    133     def __len__(self):\n    134         return self._size\n    135 \n\n...........................................................................\nC:\\ProgramData\\Anaconda3\\lib\\site-packages\\sklearn\\externals\\joblib\\parallel.py in <listcomp>(.0=<list_iterator object>)\n    126     def __init__(self, iterator_slice):\n    127         self.items = list(iterator_slice)\n    128         self._size = len(self.items)\n    129 \n    130     def __call__(self):\n--> 131         return [func(*args, **kwargs) for func, args, kwargs in self.items]\n        func = <function _fit_and_score>\n        args = (Pipeline(memory=None,\n     steps=[('vect', Count...', random_state=None, tol=1e-05, verbose=True))]),                                         processe...   0.000000       0.250\n\n[31962 rows x 9 columns],        label\n0          0\n1          0\n2        ...960      1\n31961      0\n\n[31962 rows x 1 columns], {'score': <function _passthrough_scorer>}, array([10655, 10656, 10657, ..., 31959, 31960, 31961]), array([    0,     1,     2, ..., 10652, 10653, 10654]), 2, {'chi2__k': 25000, 'clf__C': 2.4, 'clf__loss': 'hinge', 'clf__max_iter': 6, 'clf__tol': 1e-05, 'tfidf__use_idf': True, 'vect__max_df': 0.9, 'vect__ngram_range': (1, 3), 'vect__strip_accents': 'unicode'})\n        kwargs = {'error_score': 'raise', 'fit_params': {}, 'return_n_test_samples': True, 'return_parameters': False, 'return_times': True, 'return_train_score': 'warn'}\n    132 \n    133     def __len__(self):\n    134         return self._size\n    135 \n\n...........................................................................\nC:\\ProgramData\\Anaconda3\\lib\\site-packages\\sklearn\\model_selection\\_validation.py in _fit_and_score(estimator=Pipeline(memory=None,\n     steps=[('vect', Count...', random_state=None, tol=1e-05, verbose=True))]), X=                                        processe...   0.000000       0.250\n\n[31962 rows x 9 columns], y=       label\n0          0\n1          0\n2        ...960      1\n31961      0\n\n[31962 rows x 1 columns], scorer={'score': <function _passthrough_scorer>}, train=array([10655, 10656, 10657, ..., 31959, 31960, 31961]), test=array([    0,     1,     2, ..., 10652, 10653, 10654]), verbose=2, parameters={'chi2__k': 25000, 'clf__C': 2.4, 'clf__loss': 'hinge', 'clf__max_iter': 6, 'clf__tol': 1e-05, 'tfidf__use_idf': True, 'vect__max_df': 0.9, 'vect__ngram_range': (1, 3), 'vect__strip_accents': 'unicode'}, fit_params={}, return_train_score='warn', return_parameters=False, return_n_test_samples=True, return_times=True, error_score='raise')\n    453 \n    454     try:\n    455         if y_train is None:\n    456             estimator.fit(X_train, **fit_params)\n    457         else:\n--> 458             estimator.fit(X_train, y_train, **fit_params)\n        estimator.fit = <bound method Pipeline.fit of Pipeline(memory=No..., random_state=None, tol=1e-05, verbose=True))])>\n        X_train =                                         processe...   0.000000       0.250\n\n[21307 rows x 9 columns]\n        y_train =        label\n10655      0\n10656      0\n10657    ...960      1\n31961      0\n\n[21307 rows x 1 columns]\n        fit_params = {}\n    459 \n    460     except Exception as e:\n    461         # Note fit time as time until error\n    462         fit_time = time.time() - start_time\n\n...........................................................................\nC:\\ProgramData\\Anaconda3\\lib\\site-packages\\sklearn\\pipeline.py in fit(self=Pipeline(memory=None,\n     steps=[('vect', Count...', random_state=None, tol=1e-05, verbose=True))]), X=                                        processe...   0.000000       0.250\n\n[21307 rows x 9 columns], y=       label\n10655      0\n10656      0\n10657    ...960      1\n31961      0\n\n[21307 rows x 1 columns], **fit_params={})\n    243         Returns\n    244         -------\n    245         self : Pipeline\n    246             This estimator\n    247         \"\"\"\n--> 248         Xt, fit_params = self._fit(X, y, **fit_params)\n        Xt = undefined\n        fit_params = {}\n        self._fit = <bound method Pipeline._fit of Pipeline(memory=N..., random_state=None, tol=1e-05, verbose=True))])>\n        X =                                         processe...   0.000000       0.250\n\n[21307 rows x 9 columns]\n        y =        label\n10655      0\n10656      0\n10657    ...960      1\n31961      0\n\n[21307 rows x 1 columns]\n    249         if self._final_estimator is not None:\n    250             self._final_estimator.fit(Xt, y, **fit_params)\n    251         return self\n    252 \n\n...........................................................................\nC:\\ProgramData\\Anaconda3\\lib\\site-packages\\sklearn\\pipeline.py in _fit(self=Pipeline(memory=None,\n     steps=[('vect', Count...', random_state=None, tol=1e-05, verbose=True))]), X=                                        processe...   0.000000       0.250\n\n[21307 rows x 9 columns], y=       label\n10655      0\n10656      0\n10657    ...960      1\n31961      0\n\n[21307 rows x 1 columns], **fit_params={})\n    208                 else:\n    209                     cloned_transformer = clone(transformer)\n    210                 # Fit or load from cache the current transfomer\n    211                 Xt, fitted_transformer = fit_transform_one_cached(\n    212                     cloned_transformer, None, Xt, y,\n--> 213                     **fit_params_steps[name])\n        fit_params_steps = {'chi2': {}, 'clf': {}, 'tfidf': {}, 'vect': {}}\n        name = 'chi2'\n    214                 # Replace the transformer of the step with the fitted\n    215                 # transformer. This is necessary when loading the transformer\n    216                 # from the cache.\n    217                 self.steps[step_idx] = (name, fitted_transformer)\n\n...........................................................................\nC:\\ProgramData\\Anaconda3\\lib\\site-packages\\sklearn\\externals\\joblib\\memory.py in __call__(self=NotMemorizedFunc(func=<function _fit_transform_one at 0x0000018EC420F1E0>), *args=(SelectKBest(k=25000, score_func=<function chi2 at 0x0000018EC40462F0>), None, <9x9 sparse matrix of type '<class 'numpy.float6... stored elements in Compressed Sparse Row format>,        label\n10655      0\n10656      0\n10657    ...960      1\n31961      0\n\n[21307 rows x 1 columns]), **kwargs={})\n    357     # Should be a light as possible (for speed)\n    358     def __init__(self, func):\n    359         self.func = func\n    360 \n    361     def __call__(self, *args, **kwargs):\n--> 362         return self.func(*args, **kwargs)\n        self.func = <function _fit_transform_one>\n        args = (SelectKBest(k=25000, score_func=<function chi2 at 0x0000018EC40462F0>), None, <9x9 sparse matrix of type '<class 'numpy.float6... stored elements in Compressed Sparse Row format>,        label\n10655      0\n10656      0\n10657    ...960      1\n31961      0\n\n[21307 rows x 1 columns])\n        kwargs = {}\n    363 \n    364     def call_and_shelve(self, *args, **kwargs):\n    365         return NotMemorizedResult(self.func(*args, **kwargs))\n    366 \n\n...........................................................................\nC:\\ProgramData\\Anaconda3\\lib\\site-packages\\sklearn\\pipeline.py in _fit_transform_one(transformer=SelectKBest(k=25000, score_func=<function chi2 at 0x0000018EC40462F0>), weight=None, X=<9x9 sparse matrix of type '<class 'numpy.float6... stored elements in Compressed Sparse Row format>, y=       label\n10655      0\n10656      0\n10657    ...960      1\n31961      0\n\n[21307 rows x 1 columns], **fit_params={})\n    576 \n    577 \n    578 def _fit_transform_one(transformer, weight, X, y,\n    579                        **fit_params):\n    580     if hasattr(transformer, 'fit_transform'):\n--> 581         res = transformer.fit_transform(X, y, **fit_params)\n        res = undefined\n        transformer.fit_transform = <bound method TransformerMixin.fit_transform of ...core_func=<function chi2 at 0x0000018EC40462F0>)>\n        X = <9x9 sparse matrix of type '<class 'numpy.float6... stored elements in Compressed Sparse Row format>\n        y =        label\n10655      0\n10656      0\n10657    ...960      1\n31961      0\n\n[21307 rows x 1 columns]\n        fit_params = {}\n    582     else:\n    583         res = transformer.fit(X, y, **fit_params).transform(X)\n    584     # if we have a weight for this transformer, multiply output\n    585     if weight is None:\n\n...........................................................................\nC:\\ProgramData\\Anaconda3\\lib\\site-packages\\sklearn\\base.py in fit_transform(self=SelectKBest(k=25000, score_func=<function chi2 at 0x0000018EC40462F0>), X=<9x9 sparse matrix of type '<class 'numpy.float6... stored elements in Compressed Sparse Row format>, y=       label\n10655      0\n10656      0\n10657    ...960      1\n31961      0\n\n[21307 rows x 1 columns], **fit_params={})\n    515         if y is None:\n    516             # fit method of arity 1 (unsupervised transformation)\n    517             return self.fit(X, **fit_params).transform(X)\n    518         else:\n    519             # fit method of arity 2 (supervised transformation)\n--> 520             return self.fit(X, y, **fit_params).transform(X)\n        self.fit = <bound method _BaseFilter.fit of SelectKBest(k=2...core_func=<function chi2 at 0x0000018EC40462F0>)>\n        X = <9x9 sparse matrix of type '<class 'numpy.float6... stored elements in Compressed Sparse Row format>\n        y =        label\n10655      0\n10656      0\n10657    ...960      1\n31961      0\n\n[21307 rows x 1 columns]\n        fit_params.transform = undefined\n    521 \n    522 \n    523 class DensityMixin(object):\n    524     \"\"\"Mixin class for all density estimators in scikit-learn.\"\"\"\n\n...........................................................................\nC:\\ProgramData\\Anaconda3\\lib\\site-packages\\sklearn\\feature_selection\\univariate_selection.py in fit(self=SelectKBest(k=25000, score_func=<function chi2 at 0x0000018EC40462F0>), X=<9x9 sparse matrix of type '<class 'numpy.float6... stored elements in Compressed Sparse Row format>, y=       label\n10655      0\n10656      0\n10657    ...960      1\n31961      0\n\n[21307 rows x 1 columns])\n    336         Returns\n    337         -------\n    338         self : object\n    339             Returns self.\n    340         \"\"\"\n--> 341         X, y = check_X_y(X, y, ['csr', 'csc'], multi_output=True)\n        X = <9x9 sparse matrix of type '<class 'numpy.float6... stored elements in Compressed Sparse Row format>\n        y =        label\n10655      0\n10656      0\n10657    ...960      1\n31961      0\n\n[21307 rows x 1 columns]\n    342 \n    343         if not callable(self.score_func):\n    344             raise TypeError(\"The score function should be a callable, %s (%s) \"\n    345                             \"was passed.\"\n\n...........................................................................\nC:\\ProgramData\\Anaconda3\\lib\\site-packages\\sklearn\\utils\\validation.py in check_X_y(X=<9x9 sparse matrix of type '<class 'numpy.float6... stored elements in Compressed Sparse Row format>, y=array([[0],\n       [0],\n       [0],\n       ...,\n       [0],\n       [1],\n       [0]], dtype=int64), accept_sparse=['csr', 'csc'], dtype='numeric', order=None, copy=False, force_all_finite=True, ensure_2d=True, allow_nd=False, multi_output=True, ensure_min_samples=1, ensure_min_features=1, y_numeric=False, warn_on_dtype=False, estimator=None)\n    578         y = column_or_1d(y, warn=True)\n    579         _assert_all_finite(y)\n    580     if y_numeric and y.dtype.kind == 'O':\n    581         y = y.astype(np.float64)\n    582 \n--> 583     check_consistent_length(X, y)\n        X = <9x9 sparse matrix of type '<class 'numpy.float6... stored elements in Compressed Sparse Row format>\n        y = array([[0],\n       [0],\n       [0],\n       ...,\n       [0],\n       [1],\n       [0]], dtype=int64)\n    584 \n    585     return X, y\n    586 \n    587 \n\n...........................................................................\nC:\\ProgramData\\Anaconda3\\lib\\site-packages\\sklearn\\utils\\validation.py in check_consistent_length(*arrays=(<9x9 sparse matrix of type '<class 'numpy.float6... stored elements in Compressed Sparse Row format>, array([[0],\n       [0],\n       [0],\n       ...,\n       [0],\n       [1],\n       [0]], dtype=int64)))\n    199 \n    200     lengths = [_num_samples(X) for X in arrays if X is not None]\n    201     uniques = np.unique(lengths)\n    202     if len(uniques) > 1:\n    203         raise ValueError(\"Found input variables with inconsistent numbers of\"\n--> 204                          \" samples: %r\" % [int(l) for l in lengths])\n        lengths = [9, 21307]\n    205 \n    206 \n    207 def indexable(*iterables):\n    208     \"\"\"Make arrays indexable for cross-validation.\n\nValueError: Found input variables with inconsistent numbers of samples: [9, 21307]\n___________________________________________________________________________",
      "\nDuring handling of the above exception, another exception occurred:\n",
      "\u001b[1;31mJoblibValueError\u001b[0m                          Traceback (most recent call last)",
      "\u001b[1;32m<ipython-input-28-2213270f5880>\u001b[0m in \u001b[0;36m<module>\u001b[1;34m()\u001b[0m\n\u001b[1;32m----> 1\u001b[1;33m \u001b[0mmodel\u001b[0m \u001b[1;33m=\u001b[0m \u001b[0mtext_clf\u001b[0m\u001b[1;33m.\u001b[0m\u001b[0mfit\u001b[0m\u001b[1;33m(\u001b[0m\u001b[0mX\u001b[0m\u001b[1;33m,\u001b[0m\u001b[0my\u001b[0m\u001b[1;33m)\u001b[0m\u001b[1;33m\u001b[0m\u001b[0m\n\u001b[0m",
      "\u001b[1;32mC:\\ProgramData\\Anaconda3\\lib\\site-packages\\sklearn\\model_selection\\_search.py\u001b[0m in \u001b[0;36mfit\u001b[1;34m(self, X, y, groups, **fit_params)\u001b[0m\n\u001b[0;32m    637\u001b[0m                                   error_score=self.error_score)\n\u001b[0;32m    638\u001b[0m           for parameters, (train, test) in product(candidate_params,\n\u001b[1;32m--> 639\u001b[1;33m                                                    cv.split(X, y, groups)))\n\u001b[0m\u001b[0;32m    640\u001b[0m \u001b[1;33m\u001b[0m\u001b[0m\n\u001b[0;32m    641\u001b[0m         \u001b[1;31m# if one choose to see train score, \"out\" will contain train score info\u001b[0m\u001b[1;33m\u001b[0m\u001b[1;33m\u001b[0m\u001b[0m\n",
      "\u001b[1;32mC:\\ProgramData\\Anaconda3\\lib\\site-packages\\sklearn\\externals\\joblib\\parallel.py\u001b[0m in \u001b[0;36m__call__\u001b[1;34m(self, iterable)\u001b[0m\n\u001b[0;32m    787\u001b[0m                 \u001b[1;31m# consumption.\u001b[0m\u001b[1;33m\u001b[0m\u001b[1;33m\u001b[0m\u001b[0m\n\u001b[0;32m    788\u001b[0m                 \u001b[0mself\u001b[0m\u001b[1;33m.\u001b[0m\u001b[0m_iterating\u001b[0m \u001b[1;33m=\u001b[0m \u001b[1;32mFalse\u001b[0m\u001b[1;33m\u001b[0m\u001b[0m\n\u001b[1;32m--> 789\u001b[1;33m             \u001b[0mself\u001b[0m\u001b[1;33m.\u001b[0m\u001b[0mretrieve\u001b[0m\u001b[1;33m(\u001b[0m\u001b[1;33m)\u001b[0m\u001b[1;33m\u001b[0m\u001b[0m\n\u001b[0m\u001b[0;32m    790\u001b[0m             \u001b[1;31m# Make sure that we get a last message telling us we are done\u001b[0m\u001b[1;33m\u001b[0m\u001b[1;33m\u001b[0m\u001b[0m\n\u001b[0;32m    791\u001b[0m             \u001b[0melapsed_time\u001b[0m \u001b[1;33m=\u001b[0m \u001b[0mtime\u001b[0m\u001b[1;33m.\u001b[0m\u001b[0mtime\u001b[0m\u001b[1;33m(\u001b[0m\u001b[1;33m)\u001b[0m \u001b[1;33m-\u001b[0m \u001b[0mself\u001b[0m\u001b[1;33m.\u001b[0m\u001b[0m_start_time\u001b[0m\u001b[1;33m\u001b[0m\u001b[0m\n",
      "\u001b[1;32mC:\\ProgramData\\Anaconda3\\lib\\site-packages\\sklearn\\externals\\joblib\\parallel.py\u001b[0m in \u001b[0;36mretrieve\u001b[1;34m(self)\u001b[0m\n\u001b[0;32m    738\u001b[0m                     \u001b[0mexception\u001b[0m \u001b[1;33m=\u001b[0m \u001b[0mexception_type\u001b[0m\u001b[1;33m(\u001b[0m\u001b[0mreport\u001b[0m\u001b[1;33m)\u001b[0m\u001b[1;33m\u001b[0m\u001b[0m\n\u001b[0;32m    739\u001b[0m \u001b[1;33m\u001b[0m\u001b[0m\n\u001b[1;32m--> 740\u001b[1;33m                     \u001b[1;32mraise\u001b[0m \u001b[0mexception\u001b[0m\u001b[1;33m\u001b[0m\u001b[0m\n\u001b[0m\u001b[0;32m    741\u001b[0m \u001b[1;33m\u001b[0m\u001b[0m\n\u001b[0;32m    742\u001b[0m     \u001b[1;32mdef\u001b[0m \u001b[0m__call__\u001b[0m\u001b[1;33m(\u001b[0m\u001b[0mself\u001b[0m\u001b[1;33m,\u001b[0m \u001b[0miterable\u001b[0m\u001b[1;33m)\u001b[0m\u001b[1;33m:\u001b[0m\u001b[1;33m\u001b[0m\u001b[0m\n",
      "\u001b[1;31mJoblibValueError\u001b[0m: JoblibValueError\n___________________________________________________________________________\nMultiprocessing exception:\n...........................................................................\nC:\\ProgramData\\Anaconda3\\lib\\runpy.py in _run_module_as_main(mod_name='ipykernel_launcher', alter_argv=1)\n    188         sys.exit(msg)\n    189     main_globals = sys.modules[\"__main__\"].__dict__\n    190     if alter_argv:\n    191         sys.argv[0] = mod_spec.origin\n    192     return _run_code(code, main_globals, None,\n--> 193                      \"__main__\", mod_spec)\n        mod_spec = ModuleSpec(name='ipykernel_launcher', loader=<_f...nda3\\\\lib\\\\site-packages\\\\ipykernel_launcher.py')\n    194 \n    195 def run_module(mod_name, init_globals=None,\n    196                run_name=None, alter_sys=False):\n    197     \"\"\"Execute a module's code without importing it\n\n...........................................................................\nC:\\ProgramData\\Anaconda3\\lib\\runpy.py in _run_code(code=<code object <module> at 0x000001C1AA674F60, fil...lib\\site-packages\\ipykernel_launcher.py\", line 5>, run_globals={'__annotations__': {}, '__builtins__': <module 'builtins' (built-in)>, '__cached__': r'C:\\ProgramData\\Anaconda3\\lib\\site-packages\\__pycache__\\ipykernel_launcher.cpython-36.pyc', '__doc__': 'Entry point for launching an IPython kernel.\\n\\nTh...orts until\\nafter removing the cwd from sys.path.\\n', '__file__': r'C:\\ProgramData\\Anaconda3\\lib\\site-packages\\ipykernel_launcher.py', '__loader__': <_frozen_importlib_external.SourceFileLoader object>, '__name__': '__main__', '__package__': '', '__spec__': ModuleSpec(name='ipykernel_launcher', loader=<_f...nda3\\\\lib\\\\site-packages\\\\ipykernel_launcher.py'), 'app': <module 'ipykernel.kernelapp' from 'C:\\\\ProgramD...a3\\\\lib\\\\site-packages\\\\ipykernel\\\\kernelapp.py'>, ...}, init_globals=None, mod_name='__main__', mod_spec=ModuleSpec(name='ipykernel_launcher', loader=<_f...nda3\\\\lib\\\\site-packages\\\\ipykernel_launcher.py'), pkg_name='', script_name=None)\n     80                        __cached__ = cached,\n     81                        __doc__ = None,\n     82                        __loader__ = loader,\n     83                        __package__ = pkg_name,\n     84                        __spec__ = mod_spec)\n---> 85     exec(code, run_globals)\n        code = <code object <module> at 0x000001C1AA674F60, fil...lib\\site-packages\\ipykernel_launcher.py\", line 5>\n        run_globals = {'__annotations__': {}, '__builtins__': <module 'builtins' (built-in)>, '__cached__': r'C:\\ProgramData\\Anaconda3\\lib\\site-packages\\__pycache__\\ipykernel_launcher.cpython-36.pyc', '__doc__': 'Entry point for launching an IPython kernel.\\n\\nTh...orts until\\nafter removing the cwd from sys.path.\\n', '__file__': r'C:\\ProgramData\\Anaconda3\\lib\\site-packages\\ipykernel_launcher.py', '__loader__': <_frozen_importlib_external.SourceFileLoader object>, '__name__': '__main__', '__package__': '', '__spec__': ModuleSpec(name='ipykernel_launcher', loader=<_f...nda3\\\\lib\\\\site-packages\\\\ipykernel_launcher.py'), 'app': <module 'ipykernel.kernelapp' from 'C:\\\\ProgramD...a3\\\\lib\\\\site-packages\\\\ipykernel\\\\kernelapp.py'>, ...}\n     86     return run_globals\n     87 \n     88 def _run_module_code(code, init_globals=None,\n     89                     mod_name=None, mod_spec=None,\n\n...........................................................................\nC:\\ProgramData\\Anaconda3\\lib\\site-packages\\ipykernel_launcher.py in <module>()\n     11     # This is added back by InteractiveShellApp.init_path()\n     12     if sys.path[0] == '':\n     13         del sys.path[0]\n     14 \n     15     from ipykernel import kernelapp as app\n---> 16     app.launch_new_instance()\n\n...........................................................................\nC:\\ProgramData\\Anaconda3\\lib\\site-packages\\traitlets\\config\\application.py in launch_instance(cls=<class 'ipykernel.kernelapp.IPKernelApp'>, argv=None, **kwargs={})\n    653 \n    654         If a global instance already exists, this reinitializes and starts it\n    655         \"\"\"\n    656         app = cls.instance(**kwargs)\n    657         app.initialize(argv)\n--> 658         app.start()\n        app.start = <bound method IPKernelApp.start of <ipykernel.kernelapp.IPKernelApp object>>\n    659 \n    660 #-----------------------------------------------------------------------------\n    661 # utility functions, for convenience\n    662 #-----------------------------------------------------------------------------\n\n...........................................................................\nC:\\ProgramData\\Anaconda3\\lib\\site-packages\\ipykernel\\kernelapp.py in start(self=<ipykernel.kernelapp.IPKernelApp object>)\n    481         if self.poller is not None:\n    482             self.poller.start()\n    483         self.kernel.start()\n    484         self.io_loop = ioloop.IOLoop.current()\n    485         try:\n--> 486             self.io_loop.start()\n        self.io_loop.start = <bound method BaseAsyncIOLoop.start of <tornado.platform.asyncio.AsyncIOMainLoop object>>\n    487         except KeyboardInterrupt:\n    488             pass\n    489 \n    490 launch_new_instance = IPKernelApp.launch_instance\n\n...........................................................................\nC:\\ProgramData\\Anaconda3\\lib\\site-packages\\tornado\\platform\\asyncio.py in start(self=<tornado.platform.asyncio.AsyncIOMainLoop object>)\n    122         except (RuntimeError, AssertionError):\n    123             old_loop = None\n    124         try:\n    125             self._setup_logging()\n    126             asyncio.set_event_loop(self.asyncio_loop)\n--> 127             self.asyncio_loop.run_forever()\n        self.asyncio_loop.run_forever = <bound method BaseEventLoop.run_forever of <_Win...EventLoop running=True closed=False debug=False>>\n    128         finally:\n    129             asyncio.set_event_loop(old_loop)\n    130 \n    131     def stop(self):\n\n...........................................................................\nC:\\ProgramData\\Anaconda3\\lib\\asyncio\\base_events.py in run_forever(self=<_WindowsSelectorEventLoop running=True closed=False debug=False>)\n    417             sys.set_asyncgen_hooks(firstiter=self._asyncgen_firstiter_hook,\n    418                                    finalizer=self._asyncgen_finalizer_hook)\n    419         try:\n    420             events._set_running_loop(self)\n    421             while True:\n--> 422                 self._run_once()\n        self._run_once = <bound method BaseEventLoop._run_once of <_Windo...EventLoop running=True closed=False debug=False>>\n    423                 if self._stopping:\n    424                     break\n    425         finally:\n    426             self._stopping = False\n\n...........................................................................\nC:\\ProgramData\\Anaconda3\\lib\\asyncio\\base_events.py in _run_once(self=<_WindowsSelectorEventLoop running=True closed=False debug=False>)\n   1427                         logger.warning('Executing %s took %.3f seconds',\n   1428                                        _format_handle(handle), dt)\n   1429                 finally:\n   1430                     self._current_handle = None\n   1431             else:\n-> 1432                 handle._run()\n        handle._run = <bound method Handle._run of <Handle BaseAsyncIOLoop._handle_events(488, 1)>>\n   1433         handle = None  # Needed to break cycles when an exception occurs.\n   1434 \n   1435     def _set_coroutine_wrapper(self, enabled):\n   1436         try:\n\n...........................................................................\nC:\\ProgramData\\Anaconda3\\lib\\asyncio\\events.py in _run(self=<Handle BaseAsyncIOLoop._handle_events(488, 1)>)\n    140             self._callback = None\n    141             self._args = None\n    142 \n    143     def _run(self):\n    144         try:\n--> 145             self._callback(*self._args)\n        self._callback = <bound method BaseAsyncIOLoop._handle_events of <tornado.platform.asyncio.AsyncIOMainLoop object>>\n        self._args = (488, 1)\n    146         except Exception as exc:\n    147             cb = _format_callback_source(self._callback, self._args)\n    148             msg = 'Exception in callback {}'.format(cb)\n    149             context = {\n\n...........................................................................\nC:\\ProgramData\\Anaconda3\\lib\\site-packages\\tornado\\platform\\asyncio.py in _handle_events(self=<tornado.platform.asyncio.AsyncIOMainLoop object>, fd=488, events=1)\n    112             self.writers.remove(fd)\n    113         del self.handlers[fd]\n    114 \n    115     def _handle_events(self, fd, events):\n    116         fileobj, handler_func = self.handlers[fd]\n--> 117         handler_func(fileobj, events)\n        handler_func = <function wrap.<locals>.null_wrapper>\n        fileobj = <zmq.sugar.socket.Socket object>\n        events = 1\n    118 \n    119     def start(self):\n    120         try:\n    121             old_loop = asyncio.get_event_loop()\n\n...........................................................................\nC:\\ProgramData\\Anaconda3\\lib\\site-packages\\tornado\\stack_context.py in null_wrapper(*args=(<zmq.sugar.socket.Socket object>, 1), **kwargs={})\n    271         # Fast path when there are no active contexts.\n    272         def null_wrapper(*args, **kwargs):\n    273             try:\n    274                 current_state = _state.contexts\n    275                 _state.contexts = cap_contexts[0]\n--> 276                 return fn(*args, **kwargs)\n        args = (<zmq.sugar.socket.Socket object>, 1)\n        kwargs = {}\n    277             finally:\n    278                 _state.contexts = current_state\n    279         null_wrapper._wrapped = True\n    280         return null_wrapper\n\n...........................................................................\nC:\\ProgramData\\Anaconda3\\lib\\site-packages\\zmq\\eventloop\\zmqstream.py in _handle_events(self=<zmq.eventloop.zmqstream.ZMQStream object>, fd=<zmq.sugar.socket.Socket object>, events=1)\n    445             return\n    446         zmq_events = self.socket.EVENTS\n    447         try:\n    448             # dispatch events:\n    449             if zmq_events & zmq.POLLIN and self.receiving():\n--> 450                 self._handle_recv()\n        self._handle_recv = <bound method ZMQStream._handle_recv of <zmq.eventloop.zmqstream.ZMQStream object>>\n    451                 if not self.socket:\n    452                     return\n    453             if zmq_events & zmq.POLLOUT and self.sending():\n    454                 self._handle_send()\n\n...........................................................................\nC:\\ProgramData\\Anaconda3\\lib\\site-packages\\zmq\\eventloop\\zmqstream.py in _handle_recv(self=<zmq.eventloop.zmqstream.ZMQStream object>)\n    475             else:\n    476                 raise\n    477         else:\n    478             if self._recv_callback:\n    479                 callback = self._recv_callback\n--> 480                 self._run_callback(callback, msg)\n        self._run_callback = <bound method ZMQStream._run_callback of <zmq.eventloop.zmqstream.ZMQStream object>>\n        callback = <function wrap.<locals>.null_wrapper>\n        msg = [<zmq.sugar.frame.Frame object>, <zmq.sugar.frame.Frame object>, <zmq.sugar.frame.Frame object>, <zmq.sugar.frame.Frame object>, <zmq.sugar.frame.Frame object>, <zmq.sugar.frame.Frame object>, <zmq.sugar.frame.Frame object>]\n    481         \n    482 \n    483     def _handle_send(self):\n    484         \"\"\"Handle a send event.\"\"\"\n\n...........................................................................\nC:\\ProgramData\\Anaconda3\\lib\\site-packages\\zmq\\eventloop\\zmqstream.py in _run_callback(self=<zmq.eventloop.zmqstream.ZMQStream object>, callback=<function wrap.<locals>.null_wrapper>, *args=([<zmq.sugar.frame.Frame object>, <zmq.sugar.frame.Frame object>, <zmq.sugar.frame.Frame object>, <zmq.sugar.frame.Frame object>, <zmq.sugar.frame.Frame object>, <zmq.sugar.frame.Frame object>, <zmq.sugar.frame.Frame object>],), **kwargs={})\n    427         close our socket.\"\"\"\n    428         try:\n    429             # Use a NullContext to ensure that all StackContexts are run\n    430             # inside our blanket exception handler rather than outside.\n    431             with stack_context.NullContext():\n--> 432                 callback(*args, **kwargs)\n        callback = <function wrap.<locals>.null_wrapper>\n        args = ([<zmq.sugar.frame.Frame object>, <zmq.sugar.frame.Frame object>, <zmq.sugar.frame.Frame object>, <zmq.sugar.frame.Frame object>, <zmq.sugar.frame.Frame object>, <zmq.sugar.frame.Frame object>, <zmq.sugar.frame.Frame object>],)\n        kwargs = {}\n    433         except:\n    434             gen_log.error(\"Uncaught exception in ZMQStream callback\",\n    435                           exc_info=True)\n    436             # Re-raise the exception so that IOLoop.handle_callback_exception\n\n...........................................................................\nC:\\ProgramData\\Anaconda3\\lib\\site-packages\\tornado\\stack_context.py in null_wrapper(*args=([<zmq.sugar.frame.Frame object>, <zmq.sugar.frame.Frame object>, <zmq.sugar.frame.Frame object>, <zmq.sugar.frame.Frame object>, <zmq.sugar.frame.Frame object>, <zmq.sugar.frame.Frame object>, <zmq.sugar.frame.Frame object>],), **kwargs={})\n    271         # Fast path when there are no active contexts.\n    272         def null_wrapper(*args, **kwargs):\n    273             try:\n    274                 current_state = _state.contexts\n    275                 _state.contexts = cap_contexts[0]\n--> 276                 return fn(*args, **kwargs)\n        args = ([<zmq.sugar.frame.Frame object>, <zmq.sugar.frame.Frame object>, <zmq.sugar.frame.Frame object>, <zmq.sugar.frame.Frame object>, <zmq.sugar.frame.Frame object>, <zmq.sugar.frame.Frame object>, <zmq.sugar.frame.Frame object>],)\n        kwargs = {}\n    277             finally:\n    278                 _state.contexts = current_state\n    279         null_wrapper._wrapped = True\n    280         return null_wrapper\n\n...........................................................................\nC:\\ProgramData\\Anaconda3\\lib\\site-packages\\ipykernel\\kernelbase.py in dispatcher(msg=[<zmq.sugar.frame.Frame object>, <zmq.sugar.frame.Frame object>, <zmq.sugar.frame.Frame object>, <zmq.sugar.frame.Frame object>, <zmq.sugar.frame.Frame object>, <zmq.sugar.frame.Frame object>, <zmq.sugar.frame.Frame object>])\n    278         if self.control_stream:\n    279             self.control_stream.on_recv(self.dispatch_control, copy=False)\n    280 \n    281         def make_dispatcher(stream):\n    282             def dispatcher(msg):\n--> 283                 return self.dispatch_shell(stream, msg)\n        msg = [<zmq.sugar.frame.Frame object>, <zmq.sugar.frame.Frame object>, <zmq.sugar.frame.Frame object>, <zmq.sugar.frame.Frame object>, <zmq.sugar.frame.Frame object>, <zmq.sugar.frame.Frame object>, <zmq.sugar.frame.Frame object>]\n    284             return dispatcher\n    285 \n    286         for s in self.shell_streams:\n    287             s.on_recv(make_dispatcher(s), copy=False)\n\n...........................................................................\nC:\\ProgramData\\Anaconda3\\lib\\site-packages\\ipykernel\\kernelbase.py in dispatch_shell(self=<ipykernel.ipkernel.IPythonKernel object>, stream=<zmq.eventloop.zmqstream.ZMQStream object>, msg={'buffers': [], 'content': {'allow_stdin': True, 'code': 'model = text_clf.fit(X,y)', 'silent': False, 'stop_on_error': True, 'store_history': True, 'user_expressions': {}}, 'header': {'date': datetime.datetime(2018, 9, 9, 4, 21, 11, 236007, tzinfo=tzutc()), 'msg_id': '6bbabcabdc584bdd9bccfd746ee4321c', 'msg_type': 'execute_request', 'session': 'dcc93219c0274af88d1892c389ab5a27', 'username': 'username', 'version': '5.2'}, 'metadata': {}, 'msg_id': '6bbabcabdc584bdd9bccfd746ee4321c', 'msg_type': 'execute_request', 'parent_header': {}})\n    228             self.log.warn(\"Unknown message type: %r\", msg_type)\n    229         else:\n    230             self.log.debug(\"%s: %s\", msg_type, msg)\n    231             self.pre_handler_hook()\n    232             try:\n--> 233                 handler(stream, idents, msg)\n        handler = <bound method Kernel.execute_request of <ipykernel.ipkernel.IPythonKernel object>>\n        stream = <zmq.eventloop.zmqstream.ZMQStream object>\n        idents = [b'dcc93219c0274af88d1892c389ab5a27']\n        msg = {'buffers': [], 'content': {'allow_stdin': True, 'code': 'model = text_clf.fit(X,y)', 'silent': False, 'stop_on_error': True, 'store_history': True, 'user_expressions': {}}, 'header': {'date': datetime.datetime(2018, 9, 9, 4, 21, 11, 236007, tzinfo=tzutc()), 'msg_id': '6bbabcabdc584bdd9bccfd746ee4321c', 'msg_type': 'execute_request', 'session': 'dcc93219c0274af88d1892c389ab5a27', 'username': 'username', 'version': '5.2'}, 'metadata': {}, 'msg_id': '6bbabcabdc584bdd9bccfd746ee4321c', 'msg_type': 'execute_request', 'parent_header': {}}\n    234             except Exception:\n    235                 self.log.error(\"Exception in message handler:\", exc_info=True)\n    236             finally:\n    237                 self.post_handler_hook()\n\n...........................................................................\nC:\\ProgramData\\Anaconda3\\lib\\site-packages\\ipykernel\\kernelbase.py in execute_request(self=<ipykernel.ipkernel.IPythonKernel object>, stream=<zmq.eventloop.zmqstream.ZMQStream object>, ident=[b'dcc93219c0274af88d1892c389ab5a27'], parent={'buffers': [], 'content': {'allow_stdin': True, 'code': 'model = text_clf.fit(X,y)', 'silent': False, 'stop_on_error': True, 'store_history': True, 'user_expressions': {}}, 'header': {'date': datetime.datetime(2018, 9, 9, 4, 21, 11, 236007, tzinfo=tzutc()), 'msg_id': '6bbabcabdc584bdd9bccfd746ee4321c', 'msg_type': 'execute_request', 'session': 'dcc93219c0274af88d1892c389ab5a27', 'username': 'username', 'version': '5.2'}, 'metadata': {}, 'msg_id': '6bbabcabdc584bdd9bccfd746ee4321c', 'msg_type': 'execute_request', 'parent_header': {}})\n    394         if not silent:\n    395             self.execution_count += 1\n    396             self._publish_execute_input(code, parent, self.execution_count)\n    397 \n    398         reply_content = self.do_execute(code, silent, store_history,\n--> 399                                         user_expressions, allow_stdin)\n        user_expressions = {}\n        allow_stdin = True\n    400 \n    401         # Flush output before sending the reply.\n    402         sys.stdout.flush()\n    403         sys.stderr.flush()\n\n...........................................................................\nC:\\ProgramData\\Anaconda3\\lib\\site-packages\\ipykernel\\ipkernel.py in do_execute(self=<ipykernel.ipkernel.IPythonKernel object>, code='model = text_clf.fit(X,y)', silent=False, store_history=True, user_expressions={}, allow_stdin=True)\n    203 \n    204         self._forward_input(allow_stdin)\n    205 \n    206         reply_content = {}\n    207         try:\n--> 208             res = shell.run_cell(code, store_history=store_history, silent=silent)\n        res = undefined\n        shell.run_cell = <bound method ZMQInteractiveShell.run_cell of <ipykernel.zmqshell.ZMQInteractiveShell object>>\n        code = 'model = text_clf.fit(X,y)'\n        store_history = True\n        silent = False\n    209         finally:\n    210             self._restore_input()\n    211 \n    212         if res.error_before_exec is not None:\n\n...........................................................................\nC:\\ProgramData\\Anaconda3\\lib\\site-packages\\ipykernel\\zmqshell.py in run_cell(self=<ipykernel.zmqshell.ZMQInteractiveShell object>, *args=('model = text_clf.fit(X,y)',), **kwargs={'silent': False, 'store_history': True})\n    532             )\n    533         self.payload_manager.write_payload(payload)\n    534 \n    535     def run_cell(self, *args, **kwargs):\n    536         self._last_traceback = None\n--> 537         return super(ZMQInteractiveShell, self).run_cell(*args, **kwargs)\n        self.run_cell = <bound method ZMQInteractiveShell.run_cell of <ipykernel.zmqshell.ZMQInteractiveShell object>>\n        args = ('model = text_clf.fit(X,y)',)\n        kwargs = {'silent': False, 'store_history': True}\n    538 \n    539     def _showtraceback(self, etype, evalue, stb):\n    540         # try to preserve ordering of tracebacks and print statements\n    541         sys.stdout.flush()\n\n...........................................................................\nC:\\ProgramData\\Anaconda3\\lib\\site-packages\\IPython\\core\\interactiveshell.py in run_cell(self=<ipykernel.zmqshell.ZMQInteractiveShell object>, raw_cell='model = text_clf.fit(X,y)', store_history=True, silent=False, shell_futures=True)\n   2657         -------\n   2658         result : :class:`ExecutionResult`\n   2659         \"\"\"\n   2660         try:\n   2661             result = self._run_cell(\n-> 2662                 raw_cell, store_history, silent, shell_futures)\n        raw_cell = 'model = text_clf.fit(X,y)'\n        store_history = True\n        silent = False\n        shell_futures = True\n   2663         finally:\n   2664             self.events.trigger('post_execute')\n   2665             if not silent:\n   2666                 self.events.trigger('post_run_cell', result)\n\n...........................................................................\nC:\\ProgramData\\Anaconda3\\lib\\site-packages\\IPython\\core\\interactiveshell.py in _run_cell(self=<ipykernel.zmqshell.ZMQInteractiveShell object>, raw_cell='model = text_clf.fit(X,y)', store_history=True, silent=False, shell_futures=True)\n   2780                 self.displayhook.exec_result = result\n   2781 \n   2782                 # Execute the user code\n   2783                 interactivity = 'none' if silent else self.ast_node_interactivity\n   2784                 has_raised = self.run_ast_nodes(code_ast.body, cell_name,\n-> 2785                    interactivity=interactivity, compiler=compiler, result=result)\n        interactivity = 'last_expr'\n        compiler = <IPython.core.compilerop.CachingCompiler object>\n   2786                 \n   2787                 self.last_execution_succeeded = not has_raised\n   2788                 self.last_execution_result = result\n   2789 \n\n...........................................................................\nC:\\ProgramData\\Anaconda3\\lib\\site-packages\\IPython\\core\\interactiveshell.py in run_ast_nodes(self=<ipykernel.zmqshell.ZMQInteractiveShell object>, nodelist=[<_ast.Assign object>], cell_name='<ipython-input-28-2213270f5880>', interactivity='none', compiler=<IPython.core.compilerop.CachingCompiler object>, result=<ExecutionResult object at 1c1b4d82fd0, executio...rue silent=False shell_futures=True> result=None>)\n   2898 \n   2899         try:\n   2900             for i, node in enumerate(to_run_exec):\n   2901                 mod = ast.Module([node])\n   2902                 code = compiler(mod, cell_name, \"exec\")\n-> 2903                 if self.run_code(code, result):\n        self.run_code = <bound method InteractiveShell.run_code of <ipykernel.zmqshell.ZMQInteractiveShell object>>\n        code = <code object <module> at 0x000001C1B4D7ED20, file \"<ipython-input-28-2213270f5880>\", line 1>\n        result = <ExecutionResult object at 1c1b4d82fd0, executio...rue silent=False shell_futures=True> result=None>\n   2904                     return True\n   2905 \n   2906             for i, node in enumerate(to_run_interactive):\n   2907                 mod = ast.Interactive([node])\n\n...........................................................................\nC:\\ProgramData\\Anaconda3\\lib\\site-packages\\IPython\\core\\interactiveshell.py in run_code(self=<ipykernel.zmqshell.ZMQInteractiveShell object>, code_obj=<code object <module> at 0x000001C1B4D7ED20, file \"<ipython-input-28-2213270f5880>\", line 1>, result=<ExecutionResult object at 1c1b4d82fd0, executio...rue silent=False shell_futures=True> result=None>)\n   2958         outflag = True  # happens in more places, so it's easier as default\n   2959         try:\n   2960             try:\n   2961                 self.hooks.pre_run_code_hook()\n   2962                 #rprint('Running code', repr(code_obj)) # dbg\n-> 2963                 exec(code_obj, self.user_global_ns, self.user_ns)\n        code_obj = <code object <module> at 0x000001C1B4D7ED20, file \"<ipython-input-28-2213270f5880>\", line 1>\n        self.user_global_ns = {'CountVectorizer': <class 'sklearn.feature_extraction.text.CountVectorizer'>, 'ExtraTreesClassifier': <class 'sklearn.ensemble.forest.ExtraTreesClassifier'>, 'GradientBoostingClassifier': <class 'sklearn.ensemble.gradient_boosting.GradientBoostingClassifier'>, 'GridSearchCV': <class 'sklearn.model_selection._search.GridSearchCV'>, 'In': ['', 'import pandas as pd\\nfrom textblob import TextBlob\\nimport string', 'df = pd.read_csv(\"Data/train.csv\")', 'df.info()', 'df.head()', \"import re \\n\\ndef preprocess_word(word):\\n    # Rem...ppend(word)\\n\\n    return ' '.join(processed_tweet)\", \"df['processed_tweets'] = df['tweet'].apply(process_tweet)\\ndf.drop('tweet',axis=1,inplace=True)\", \"df['processed_tweets'].head()\", \"df['char_count'] = df['processed_tweets'].apply(...nsity'] = df['char_count'] / (df['word_count']+1)\", 'string.punctuation', 'df.head()', \"TextBlob(df['processed_tweets'][0]).tags\", \"pos_family = {\\n    'noun' : ['NN','NNS','NNP','N...weets'].apply(lambda x: check_pos_tag(x, 'pron'))\", 'df.head()', \"from sklearn.preprocessing import MinMaxScaler\\ns...rb_count','adj_count','adv_count','pron_count']])\", 'df.head()', 'from sklearn.model_selection import train_test_s...st_split(X,y, test_size = 0.2, random_state = 42)', 'X.head()', \"\\nfrom sklearn.feature_extraction.text import Cou...            ('clf', LinearSVC(verbose=True, )),])\", 'params = {\"vect__ngram_range\": [(1, 3)],\\n       ...ue],\\n#           \"chi2__k\" :[27000],\\n#          }', ...], 'LinearSVC': <class 'sklearn.svm.classes.LinearSVC'>, 'LogisticRegression': <class 'sklearn.linear_model.logistic.LogisticRegression'>, 'MinMaxScaler': <class 'sklearn.preprocessing.data.MinMaxScaler'>, 'Out': {4:    id  label                                    ...           factsguide: society now    #motivation, 7: 0    when a father is dysfunctional and is so se... motivation\nName: processed_tweets, dtype: object, 9: '!\"#$%&\\'()*+,-./:;<=>?@[\\\\]^_`{|}~', 10:    id  label                                   p... 11      0.224359  \n4           4      0.423077  , 11: [('when', 'WRB'), ('a', 'DT'), ('father', 'NN'), ('is', 'VBZ'), ('dysfunctional', 'JJ'), ('and', 'CC'), ('is', 'VBZ'), ('so', 'RB'), ('selfish', 'JJ'), ('he', 'PRP'), ('drags', 'VBZ'), ('his', 'PRP$'), ('kids', 'NNS'), ('into', 'IN'), ('his', 'PRP$'), ('dysfunction', 'NN'), ('run', 'VB')], 13:    id  label                                   p... \n2           1  \n3           0  \n4           0  , 15:    id  label                                   p... \n2       0.125  \n3       0.000  \n4       0.000  , 17:                                     processed_tw...1    0.000000   0.083333   0.111111       0.000  , 23: (31962,), 24: (31962, 9), ...}, 'Pipeline': <class 'sklearn.pipeline.Pipeline'>, ...}\n        self.user_ns = {'CountVectorizer': <class 'sklearn.feature_extraction.text.CountVectorizer'>, 'ExtraTreesClassifier': <class 'sklearn.ensemble.forest.ExtraTreesClassifier'>, 'GradientBoostingClassifier': <class 'sklearn.ensemble.gradient_boosting.GradientBoostingClassifier'>, 'GridSearchCV': <class 'sklearn.model_selection._search.GridSearchCV'>, 'In': ['', 'import pandas as pd\\nfrom textblob import TextBlob\\nimport string', 'df = pd.read_csv(\"Data/train.csv\")', 'df.info()', 'df.head()', \"import re \\n\\ndef preprocess_word(word):\\n    # Rem...ppend(word)\\n\\n    return ' '.join(processed_tweet)\", \"df['processed_tweets'] = df['tweet'].apply(process_tweet)\\ndf.drop('tweet',axis=1,inplace=True)\", \"df['processed_tweets'].head()\", \"df['char_count'] = df['processed_tweets'].apply(...nsity'] = df['char_count'] / (df['word_count']+1)\", 'string.punctuation', 'df.head()', \"TextBlob(df['processed_tweets'][0]).tags\", \"pos_family = {\\n    'noun' : ['NN','NNS','NNP','N...weets'].apply(lambda x: check_pos_tag(x, 'pron'))\", 'df.head()', \"from sklearn.preprocessing import MinMaxScaler\\ns...rb_count','adj_count','adv_count','pron_count']])\", 'df.head()', 'from sklearn.model_selection import train_test_s...st_split(X,y, test_size = 0.2, random_state = 42)', 'X.head()', \"\\nfrom sklearn.feature_extraction.text import Cou...            ('clf', LinearSVC(verbose=True, )),])\", 'params = {\"vect__ngram_range\": [(1, 3)],\\n       ...ue],\\n#           \"chi2__k\" :[27000],\\n#          }', ...], 'LinearSVC': <class 'sklearn.svm.classes.LinearSVC'>, 'LogisticRegression': <class 'sklearn.linear_model.logistic.LogisticRegression'>, 'MinMaxScaler': <class 'sklearn.preprocessing.data.MinMaxScaler'>, 'Out': {4:    id  label                                    ...           factsguide: society now    #motivation, 7: 0    when a father is dysfunctional and is so se... motivation\nName: processed_tweets, dtype: object, 9: '!\"#$%&\\'()*+,-./:;<=>?@[\\\\]^_`{|}~', 10:    id  label                                   p... 11      0.224359  \n4           4      0.423077  , 11: [('when', 'WRB'), ('a', 'DT'), ('father', 'NN'), ('is', 'VBZ'), ('dysfunctional', 'JJ'), ('and', 'CC'), ('is', 'VBZ'), ('so', 'RB'), ('selfish', 'JJ'), ('he', 'PRP'), ('drags', 'VBZ'), ('his', 'PRP$'), ('kids', 'NNS'), ('into', 'IN'), ('his', 'PRP$'), ('dysfunction', 'NN'), ('run', 'VB')], 13:    id  label                                   p... \n2           1  \n3           0  \n4           0  , 15:    id  label                                   p... \n2       0.125  \n3       0.000  \n4       0.000  , 17:                                     processed_tw...1    0.000000   0.083333   0.111111       0.000  , 23: (31962,), 24: (31962, 9), ...}, 'Pipeline': <class 'sklearn.pipeline.Pipeline'>, ...}\n   2964             finally:\n   2965                 # Reset our crash handler in place\n   2966                 sys.excepthook = old_excepthook\n   2967         except SystemExit as e:\n\n...........................................................................\nD:\\My Works\\Twitter Sentiment Analysis\\<ipython-input-28-2213270f5880> in <module>()\n----> 1 model = text_clf.fit(X,y)\n\n...........................................................................\nC:\\ProgramData\\Anaconda3\\lib\\site-packages\\sklearn\\model_selection\\_search.py in fit(self=GridSearchCV(cv=None, error_score='raise',\n     ...ain_score='warn',\n       scoring=None, verbose=2), X=                                        processe...0  \n31961       0.250  \n\n[31962 rows x 9 columns], y=       label\n0          0\n1          0\n2        ...960      1\n31961      0\n\n[31962 rows x 1 columns], groups=None, **fit_params={})\n    634                                   return_train_score=self.return_train_score,\n    635                                   return_n_test_samples=True,\n    636                                   return_times=True, return_parameters=False,\n    637                                   error_score=self.error_score)\n    638           for parameters, (train, test) in product(candidate_params,\n--> 639                                                    cv.split(X, y, groups)))\n        cv.split = <bound method StratifiedKFold.split of Stratifie...ld(n_splits=3, random_state=None, shuffle=False)>\n        X =                                         processe...0  \n31961       0.250  \n\n[31962 rows x 9 columns]\n        y =        label\n0          0\n1          0\n2        ...960      1\n31961      0\n\n[31962 rows x 1 columns]\n        groups = None\n    640 \n    641         # if one choose to see train score, \"out\" will contain train score info\n    642         if self.return_train_score:\n    643             (train_score_dicts, test_score_dicts, test_sample_counts, fit_time,\n\n...........................................................................\nC:\\ProgramData\\Anaconda3\\lib\\site-packages\\sklearn\\externals\\joblib\\parallel.py in __call__(self=Parallel(n_jobs=-1), iterable=<generator object BaseSearchCV.fit.<locals>.<genexpr>>)\n    784             if pre_dispatch == \"all\" or n_jobs == 1:\n    785                 # The iterable was consumed all at once by the above for loop.\n    786                 # No need to wait for async callbacks to trigger to\n    787                 # consumption.\n    788                 self._iterating = False\n--> 789             self.retrieve()\n        self.retrieve = <bound method Parallel.retrieve of Parallel(n_jobs=-1)>\n    790             # Make sure that we get a last message telling us we are done\n    791             elapsed_time = time.time() - self._start_time\n    792             self._print('Done %3i out of %3i | elapsed: %s finished',\n    793                         (len(self._output), len(self._output),\n\n---------------------------------------------------------------------------\nSub-process traceback:\n---------------------------------------------------------------------------\nValueError                                         Sun Sep  9 09:51:15 2018\nPID: 5448                 Python 3.6.5: C:\\ProgramData\\Anaconda3\\python.exe\n...........................................................................\nC:\\ProgramData\\Anaconda3\\lib\\site-packages\\sklearn\\externals\\joblib\\parallel.py in __call__(self=<sklearn.externals.joblib.parallel.BatchedCalls object>)\n    126     def __init__(self, iterator_slice):\n    127         self.items = list(iterator_slice)\n    128         self._size = len(self.items)\n    129 \n    130     def __call__(self):\n--> 131         return [func(*args, **kwargs) for func, args, kwargs in self.items]\n        self.items = [(<function _fit_and_score>, (Pipeline(memory=None,\n     steps=[('vect', Count...', random_state=None, tol=1e-05, verbose=True))]),                                         processe...   0.000000       0.250\n\n[31962 rows x 9 columns],        label\n0          0\n1          0\n2        ...960      1\n31961      0\n\n[31962 rows x 1 columns], {'score': <function _passthrough_scorer>}, array([10655, 10656, 10657, ..., 31959, 31960, 31961]), array([    0,     1,     2, ..., 10652, 10653, 10654]), 2, {'chi2__k': 25000, 'clf__C': 2.4, 'clf__loss': 'hinge', 'clf__max_iter': 6, 'clf__tol': 1e-05, 'tfidf__use_idf': True, 'vect__max_df': 0.9, 'vect__ngram_range': (1, 3), 'vect__strip_accents': 'unicode'}), {'error_score': 'raise', 'fit_params': {}, 'return_n_test_samples': True, 'return_parameters': False, 'return_times': True, 'return_train_score': 'warn'})]\n    132 \n    133     def __len__(self):\n    134         return self._size\n    135 \n\n...........................................................................\nC:\\ProgramData\\Anaconda3\\lib\\site-packages\\sklearn\\externals\\joblib\\parallel.py in <listcomp>(.0=<list_iterator object>)\n    126     def __init__(self, iterator_slice):\n    127         self.items = list(iterator_slice)\n    128         self._size = len(self.items)\n    129 \n    130     def __call__(self):\n--> 131         return [func(*args, **kwargs) for func, args, kwargs in self.items]\n        func = <function _fit_and_score>\n        args = (Pipeline(memory=None,\n     steps=[('vect', Count...', random_state=None, tol=1e-05, verbose=True))]),                                         processe...   0.000000       0.250\n\n[31962 rows x 9 columns],        label\n0          0\n1          0\n2        ...960      1\n31961      0\n\n[31962 rows x 1 columns], {'score': <function _passthrough_scorer>}, array([10655, 10656, 10657, ..., 31959, 31960, 31961]), array([    0,     1,     2, ..., 10652, 10653, 10654]), 2, {'chi2__k': 25000, 'clf__C': 2.4, 'clf__loss': 'hinge', 'clf__max_iter': 6, 'clf__tol': 1e-05, 'tfidf__use_idf': True, 'vect__max_df': 0.9, 'vect__ngram_range': (1, 3), 'vect__strip_accents': 'unicode'})\n        kwargs = {'error_score': 'raise', 'fit_params': {}, 'return_n_test_samples': True, 'return_parameters': False, 'return_times': True, 'return_train_score': 'warn'}\n    132 \n    133     def __len__(self):\n    134         return self._size\n    135 \n\n...........................................................................\nC:\\ProgramData\\Anaconda3\\lib\\site-packages\\sklearn\\model_selection\\_validation.py in _fit_and_score(estimator=Pipeline(memory=None,\n     steps=[('vect', Count...', random_state=None, tol=1e-05, verbose=True))]), X=                                        processe...   0.000000       0.250\n\n[31962 rows x 9 columns], y=       label\n0          0\n1          0\n2        ...960      1\n31961      0\n\n[31962 rows x 1 columns], scorer={'score': <function _passthrough_scorer>}, train=array([10655, 10656, 10657, ..., 31959, 31960, 31961]), test=array([    0,     1,     2, ..., 10652, 10653, 10654]), verbose=2, parameters={'chi2__k': 25000, 'clf__C': 2.4, 'clf__loss': 'hinge', 'clf__max_iter': 6, 'clf__tol': 1e-05, 'tfidf__use_idf': True, 'vect__max_df': 0.9, 'vect__ngram_range': (1, 3), 'vect__strip_accents': 'unicode'}, fit_params={}, return_train_score='warn', return_parameters=False, return_n_test_samples=True, return_times=True, error_score='raise')\n    453 \n    454     try:\n    455         if y_train is None:\n    456             estimator.fit(X_train, **fit_params)\n    457         else:\n--> 458             estimator.fit(X_train, y_train, **fit_params)\n        estimator.fit = <bound method Pipeline.fit of Pipeline(memory=No..., random_state=None, tol=1e-05, verbose=True))])>\n        X_train =                                         processe...   0.000000       0.250\n\n[21307 rows x 9 columns]\n        y_train =        label\n10655      0\n10656      0\n10657    ...960      1\n31961      0\n\n[21307 rows x 1 columns]\n        fit_params = {}\n    459 \n    460     except Exception as e:\n    461         # Note fit time as time until error\n    462         fit_time = time.time() - start_time\n\n...........................................................................\nC:\\ProgramData\\Anaconda3\\lib\\site-packages\\sklearn\\pipeline.py in fit(self=Pipeline(memory=None,\n     steps=[('vect', Count...', random_state=None, tol=1e-05, verbose=True))]), X=                                        processe...   0.000000       0.250\n\n[21307 rows x 9 columns], y=       label\n10655      0\n10656      0\n10657    ...960      1\n31961      0\n\n[21307 rows x 1 columns], **fit_params={})\n    243         Returns\n    244         -------\n    245         self : Pipeline\n    246             This estimator\n    247         \"\"\"\n--> 248         Xt, fit_params = self._fit(X, y, **fit_params)\n        Xt = undefined\n        fit_params = {}\n        self._fit = <bound method Pipeline._fit of Pipeline(memory=N..., random_state=None, tol=1e-05, verbose=True))])>\n        X =                                         processe...   0.000000       0.250\n\n[21307 rows x 9 columns]\n        y =        label\n10655      0\n10656      0\n10657    ...960      1\n31961      0\n\n[21307 rows x 1 columns]\n    249         if self._final_estimator is not None:\n    250             self._final_estimator.fit(Xt, y, **fit_params)\n    251         return self\n    252 \n\n...........................................................................\nC:\\ProgramData\\Anaconda3\\lib\\site-packages\\sklearn\\pipeline.py in _fit(self=Pipeline(memory=None,\n     steps=[('vect', Count...', random_state=None, tol=1e-05, verbose=True))]), X=                                        processe...   0.000000       0.250\n\n[21307 rows x 9 columns], y=       label\n10655      0\n10656      0\n10657    ...960      1\n31961      0\n\n[21307 rows x 1 columns], **fit_params={})\n    208                 else:\n    209                     cloned_transformer = clone(transformer)\n    210                 # Fit or load from cache the current transfomer\n    211                 Xt, fitted_transformer = fit_transform_one_cached(\n    212                     cloned_transformer, None, Xt, y,\n--> 213                     **fit_params_steps[name])\n        fit_params_steps = {'chi2': {}, 'clf': {}, 'tfidf': {}, 'vect': {}}\n        name = 'chi2'\n    214                 # Replace the transformer of the step with the fitted\n    215                 # transformer. This is necessary when loading the transformer\n    216                 # from the cache.\n    217                 self.steps[step_idx] = (name, fitted_transformer)\n\n...........................................................................\nC:\\ProgramData\\Anaconda3\\lib\\site-packages\\sklearn\\externals\\joblib\\memory.py in __call__(self=NotMemorizedFunc(func=<function _fit_transform_one at 0x0000018EC420F1E0>), *args=(SelectKBest(k=25000, score_func=<function chi2 at 0x0000018EC40462F0>), None, <9x9 sparse matrix of type '<class 'numpy.float6... stored elements in Compressed Sparse Row format>,        label\n10655      0\n10656      0\n10657    ...960      1\n31961      0\n\n[21307 rows x 1 columns]), **kwargs={})\n    357     # Should be a light as possible (for speed)\n    358     def __init__(self, func):\n    359         self.func = func\n    360 \n    361     def __call__(self, *args, **kwargs):\n--> 362         return self.func(*args, **kwargs)\n        self.func = <function _fit_transform_one>\n        args = (SelectKBest(k=25000, score_func=<function chi2 at 0x0000018EC40462F0>), None, <9x9 sparse matrix of type '<class 'numpy.float6... stored elements in Compressed Sparse Row format>,        label\n10655      0\n10656      0\n10657    ...960      1\n31961      0\n\n[21307 rows x 1 columns])\n        kwargs = {}\n    363 \n    364     def call_and_shelve(self, *args, **kwargs):\n    365         return NotMemorizedResult(self.func(*args, **kwargs))\n    366 \n\n...........................................................................\nC:\\ProgramData\\Anaconda3\\lib\\site-packages\\sklearn\\pipeline.py in _fit_transform_one(transformer=SelectKBest(k=25000, score_func=<function chi2 at 0x0000018EC40462F0>), weight=None, X=<9x9 sparse matrix of type '<class 'numpy.float6... stored elements in Compressed Sparse Row format>, y=       label\n10655      0\n10656      0\n10657    ...960      1\n31961      0\n\n[21307 rows x 1 columns], **fit_params={})\n    576 \n    577 \n    578 def _fit_transform_one(transformer, weight, X, y,\n    579                        **fit_params):\n    580     if hasattr(transformer, 'fit_transform'):\n--> 581         res = transformer.fit_transform(X, y, **fit_params)\n        res = undefined\n        transformer.fit_transform = <bound method TransformerMixin.fit_transform of ...core_func=<function chi2 at 0x0000018EC40462F0>)>\n        X = <9x9 sparse matrix of type '<class 'numpy.float6... stored elements in Compressed Sparse Row format>\n        y =        label\n10655      0\n10656      0\n10657    ...960      1\n31961      0\n\n[21307 rows x 1 columns]\n        fit_params = {}\n    582     else:\n    583         res = transformer.fit(X, y, **fit_params).transform(X)\n    584     # if we have a weight for this transformer, multiply output\n    585     if weight is None:\n\n...........................................................................\nC:\\ProgramData\\Anaconda3\\lib\\site-packages\\sklearn\\base.py in fit_transform(self=SelectKBest(k=25000, score_func=<function chi2 at 0x0000018EC40462F0>), X=<9x9 sparse matrix of type '<class 'numpy.float6... stored elements in Compressed Sparse Row format>, y=       label\n10655      0\n10656      0\n10657    ...960      1\n31961      0\n\n[21307 rows x 1 columns], **fit_params={})\n    515         if y is None:\n    516             # fit method of arity 1 (unsupervised transformation)\n    517             return self.fit(X, **fit_params).transform(X)\n    518         else:\n    519             # fit method of arity 2 (supervised transformation)\n--> 520             return self.fit(X, y, **fit_params).transform(X)\n        self.fit = <bound method _BaseFilter.fit of SelectKBest(k=2...core_func=<function chi2 at 0x0000018EC40462F0>)>\n        X = <9x9 sparse matrix of type '<class 'numpy.float6... stored elements in Compressed Sparse Row format>\n        y =        label\n10655      0\n10656      0\n10657    ...960      1\n31961      0\n\n[21307 rows x 1 columns]\n        fit_params.transform = undefined\n    521 \n    522 \n    523 class DensityMixin(object):\n    524     \"\"\"Mixin class for all density estimators in scikit-learn.\"\"\"\n\n...........................................................................\nC:\\ProgramData\\Anaconda3\\lib\\site-packages\\sklearn\\feature_selection\\univariate_selection.py in fit(self=SelectKBest(k=25000, score_func=<function chi2 at 0x0000018EC40462F0>), X=<9x9 sparse matrix of type '<class 'numpy.float6... stored elements in Compressed Sparse Row format>, y=       label\n10655      0\n10656      0\n10657    ...960      1\n31961      0\n\n[21307 rows x 1 columns])\n    336         Returns\n    337         -------\n    338         self : object\n    339             Returns self.\n    340         \"\"\"\n--> 341         X, y = check_X_y(X, y, ['csr', 'csc'], multi_output=True)\n        X = <9x9 sparse matrix of type '<class 'numpy.float6... stored elements in Compressed Sparse Row format>\n        y =        label\n10655      0\n10656      0\n10657    ...960      1\n31961      0\n\n[21307 rows x 1 columns]\n    342 \n    343         if not callable(self.score_func):\n    344             raise TypeError(\"The score function should be a callable, %s (%s) \"\n    345                             \"was passed.\"\n\n...........................................................................\nC:\\ProgramData\\Anaconda3\\lib\\site-packages\\sklearn\\utils\\validation.py in check_X_y(X=<9x9 sparse matrix of type '<class 'numpy.float6... stored elements in Compressed Sparse Row format>, y=array([[0],\n       [0],\n       [0],\n       ...,\n       [0],\n       [1],\n       [0]], dtype=int64), accept_sparse=['csr', 'csc'], dtype='numeric', order=None, copy=False, force_all_finite=True, ensure_2d=True, allow_nd=False, multi_output=True, ensure_min_samples=1, ensure_min_features=1, y_numeric=False, warn_on_dtype=False, estimator=None)\n    578         y = column_or_1d(y, warn=True)\n    579         _assert_all_finite(y)\n    580     if y_numeric and y.dtype.kind == 'O':\n    581         y = y.astype(np.float64)\n    582 \n--> 583     check_consistent_length(X, y)\n        X = <9x9 sparse matrix of type '<class 'numpy.float6... stored elements in Compressed Sparse Row format>\n        y = array([[0],\n       [0],\n       [0],\n       ...,\n       [0],\n       [1],\n       [0]], dtype=int64)\n    584 \n    585     return X, y\n    586 \n    587 \n\n...........................................................................\nC:\\ProgramData\\Anaconda3\\lib\\site-packages\\sklearn\\utils\\validation.py in check_consistent_length(*arrays=(<9x9 sparse matrix of type '<class 'numpy.float6... stored elements in Compressed Sparse Row format>, array([[0],\n       [0],\n       [0],\n       ...,\n       [0],\n       [1],\n       [0]], dtype=int64)))\n    199 \n    200     lengths = [_num_samples(X) for X in arrays if X is not None]\n    201     uniques = np.unique(lengths)\n    202     if len(uniques) > 1:\n    203         raise ValueError(\"Found input variables with inconsistent numbers of\"\n--> 204                          \" samples: %r\" % [int(l) for l in lengths])\n        lengths = [9, 21307]\n    205 \n    206 \n    207 def indexable(*iterables):\n    208     \"\"\"Make arrays indexable for cross-validation.\n\nValueError: Found input variables with inconsistent numbers of samples: [9, 21307]\n___________________________________________________________________________"
     ]
    }
   ],
   "source": [
    "model = text_clf.fit(X,y)"
   ]
  },
  {
   "cell_type": "code",
   "execution_count": null,
   "metadata": {},
   "outputs": [],
   "source": [
    "model.best_params_"
   ]
  },
  {
   "cell_type": "code",
   "execution_count": null,
   "metadata": {},
   "outputs": [],
   "source": []
  },
  {
   "cell_type": "code",
   "execution_count": null,
   "metadata": {},
   "outputs": [],
   "source": [
    "predicted = model.predict(X_test)"
   ]
  },
  {
   "cell_type": "code",
   "execution_count": null,
   "metadata": {},
   "outputs": [],
   "source": [
    "from sklearn.metrics import f1_score"
   ]
  },
  {
   "cell_type": "code",
   "execution_count": null,
   "metadata": {},
   "outputs": [],
   "source": [
    "f1_score(y_test, predicted)"
   ]
  },
  {
   "cell_type": "code",
   "execution_count": null,
   "metadata": {},
   "outputs": [],
   "source": [
    "submission = pd.read_csv('Data/test.csv')\n",
    "submission.info()\n",
    "\n",
    "submission['processed_tweet'] = submission['tweet'].apply(process_tweet)\n",
    "submission.head()\n",
    "\n",
    "submission.drop('tweet', axis=1,inplace=True)\n",
    "submission.head()\n",
    "\n",
    "submission['char_count'] = submission['processed_tweets'].apply(len)\n",
    "submission['word_count'] = submission['processed_tweets'].apply(lambda x: len(x.split()))\n",
    "submission['word_density'] = submission['char_count'] / (submission['word_count']+1)\n",
    "submission['noun_count'] = submission['processed_tweets'].apply(lambda x: check_pos_tag(x, 'noun'))\n",
    "submission['verb_count'] = submission['processed_tweets'].apply(lambda x: check_pos_tag(x, 'verb'))\n",
    "submission['adj_count'] = submission['processed_tweets'].apply(lambda x: check_pos_tag(x, 'adj'))\n",
    "submission['adv_count'] = submission['processed_tweets'].apply(lambda x: check_pos_tag(x, 'adv'))\n",
    "submission['pron_count'] = submission['processed_tweets'].apply(lambda x: check_pos_tag(x, 'pron'))\n",
    "\n",
    "predicted = text_clf.predict(submission)\n",
    "\n",
    "predicted\n",
    "\n",
    "final_predict = pd.DataFrame(predicted,columns=['label'])\n",
    "result = pd.DataFrame(submission['id'],columns=['id'])\n",
    "result = pd.concat([result,final_predict],axis=1)\n",
    "result.to_csv('final_predictions.csv',index=False)\n",
    "\n",
    "result['label'].value_counts()"
   ]
  },
  {
   "cell_type": "code",
   "execution_count": null,
   "metadata": {},
   "outputs": [],
   "source": []
  }
 ],
 "metadata": {
  "colab": {
   "name": "Twitter Sentiment Analysis.ipynb",
   "provenance": [],
   "version": "0.3.2"
  },
  "kernelspec": {
   "display_name": "Python 3",
   "language": "python",
   "name": "python3"
  },
  "language_info": {
   "codemirror_mode": {
    "name": "ipython",
    "version": 3
   },
   "file_extension": ".py",
   "mimetype": "text/x-python",
   "name": "python",
   "nbconvert_exporter": "python",
   "pygments_lexer": "ipython3",
   "version": "3.6.5"
  }
 },
 "nbformat": 4,
 "nbformat_minor": 1
}
